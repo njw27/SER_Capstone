{
 "cells": [
  {
   "cell_type": "code",
   "execution_count": null,
   "id": "e2a02cbd",
   "metadata": {
    "colab": {
     "base_uri": "https://localhost:8080/"
    },
    "id": "321bb1b3",
    "outputId": "e0991a05-a8bf-43ba-f76f-78724b83dde3"
   },
   "outputs": [
    {
     "name": "stdout",
     "output_type": "stream",
     "text": [
      "Drive already mounted at /content/gdrive; to attempt to forcibly remount, call drive.mount(\"/content/gdrive\", force_remount=True).\n",
      "/content/gdrive/MyDrive/SER_Capstone\n"
     ]
    }
   ],
   "source": [
    "\n",
    "# from google.colab import drive\n",
    "\n",
    "# drive.mount('/content/gdrive')\n",
    "# %cd /content/gdrive/MyDrive/SER_Capstone/\n",
    "\n",
    "\n"
   ]
  },
  {
   "cell_type": "code",
   "execution_count": null,
   "id": "054a8c2f",
   "metadata": {
    "id": "2Y9kNPXl6C5i"
   },
   "outputs": [],
   "source": [
    "      "
   ]
  },
  {
   "cell_type": "code",
   "execution_count": null,
   "id": "0a6e6fc4",
   "metadata": {
    "id": "d2cddf33"
   },
   "outputs": [],
   "source": [
    "import pandas as pd\n",
    "import numpy as np\n",
    "import seaborn as sns\n",
    "import matplotlib.pyplot as plt\n",
    "from sklearn.model_selection import train_test_split\n",
    "from sklearn.metrics import confusion_matrix, classification_report\n",
    "from sklearn.preprocessing import StandardScaler, OneHotEncoder\n",
    "\n",
    "import os\n",
    "import random\n",
    "import sys\n",
    "\n",
    "import librosa\n",
    "import librosa.display\n",
    "\n",
    "from scipy import signal \n",
    "\n",
    "import IPython.display as ipd\n",
    "\n",
    "\n",
    "# import keras\n",
    "# from keras import layers\n",
    "# from keras.preprocessing.image import ImageDataGenerator\n",
    "# from keras.layers import Dense\n",
    "# from keras.models import Model\n",
    "# from keras.metrics import Recall\n",
    "# from tensorflow.keras.optimizers import Adam \n",
    "# import tensorflow as tf\n",
    "# from tensorflow import keras\n",
    "# from tensorflow.keras import layers\n",
    "# from tensorflow.keras.models import Sequential\n",
    "# from tensorflow.keras import models, layers\n",
    "\n",
    "import os\n",
    "import glob\n",
    "import shutil\n",
    "\n",
    "\n",
    "import pickle\n",
    "\n",
    "\n",
    "import warnings\n",
    "if not sys.warnoptions:\n",
    "    warnings.simplefilter(\"ignore\")\n",
    "warnings.filterwarnings(\"ignore\", category=DeprecationWarning) \n"
   ]
  },
  {
   "cell_type": "code",
   "execution_count": null,
   "id": "281db2f7",
   "metadata": {
    "id": "25cd4db1"
   },
   "outputs": [],
   "source": [
    "Emo_path = 'EmoV-DB_sorted/'\n",
    "emo_actor_list = os.listdir(Emo_path) \n",
    "emo_actor_list.sort\n",
    "\n",
    "file_actor = []\n",
    "file_emotion = []\n",
    "file_path = []\n",
    "\n",
    "for dir in emo_actor_list:\n",
    "    if dir.startswith('.'):\n",
    "        pass\n",
    "    else:\n",
    "        actor = os.listdir(Emo_path + dir) \n",
    "    \n",
    "        for emotions in actor:\n",
    "            if emotions.startswith('.'):\n",
    "                pass\n",
    "            else:\n",
    "                 \n",
    "                emotion = os.listdir(Emo_path + dir + '/' + emotions) \n",
    "                for file in emotion:\n",
    "                    if file.startswith('.'):\n",
    "                        pass\n",
    "                    else:\n",
    "                        file_emotion.append(emotions.lower())\n",
    "                        file_path.append(Emo_path + dir + '/' + emotions  + '/' + file)\n",
    "                        file_actor.append(dir)\n",
    "     "
   ]
  },
  {
   "cell_type": "code",
   "execution_count": null,
   "id": "a1f7a465",
   "metadata": {
    "colab": {
     "base_uri": "https://localhost:8080/"
    },
    "id": "fe136d32",
    "outputId": "2950f645-8c74-43e9-f5f5-bdd2fdd0363d"
   },
   "outputs": [
    {
     "name": "stdout",
     "output_type": "stream",
     "text": [
      "Number oaf file paths: 6898,      Number of emotions listed: 6898,      Number of actors listed: 6898\n"
     ]
    }
   ],
   "source": [
    "print(f'Number oaf file paths: {len(file_path)},\\\n",
    "      Number of emotions listed: {len(file_emotion)},\\\n",
    "      Number of actors listed: {len(file_actor)}')"
   ]
  },
  {
   "cell_type": "code",
   "execution_count": null,
   "id": "29d6467e",
   "metadata": {
    "colab": {
     "base_uri": "https://localhost:8080/",
     "height": 424
    },
    "id": "4606d4cc",
    "outputId": "ec75e217-87f1-4709-a0fc-f2b8beb92fa6"
   },
   "outputs": [
    {
     "data": {
      "text/html": [
       "\n",
       "  <div id=\"df-d45c302c-2176-4dab-b58f-036e4598d15d\">\n",
       "    <div class=\"colab-df-container\">\n",
       "      <div>\n",
       "<style scoped>\n",
       "    .dataframe tbody tr th:only-of-type {\n",
       "        vertical-align: middle;\n",
       "    }\n",
       "\n",
       "    .dataframe tbody tr th {\n",
       "        vertical-align: top;\n",
       "    }\n",
       "\n",
       "    .dataframe thead th {\n",
       "        text-align: right;\n",
       "    }\n",
       "</style>\n",
       "<table border=\"1\" class=\"dataframe\">\n",
       "  <thead>\n",
       "    <tr style=\"text-align: right;\">\n",
       "      <th></th>\n",
       "      <th>file_path</th>\n",
       "      <th>actor</th>\n",
       "      <th>sex</th>\n",
       "      <th>emotion</th>\n",
       "    </tr>\n",
       "  </thead>\n",
       "  <tbody>\n",
       "    <tr>\n",
       "      <th>0</th>\n",
       "      <td>EmoV-DB_sorted/sam/Neutral/sam_neutral_00057.wav</td>\n",
       "      <td>sam</td>\n",
       "      <td>male</td>\n",
       "      <td>neutral</td>\n",
       "    </tr>\n",
       "    <tr>\n",
       "      <th>1</th>\n",
       "      <td>EmoV-DB_sorted/sam/Neutral/sam_neutral_00068.wav</td>\n",
       "      <td>sam</td>\n",
       "      <td>male</td>\n",
       "      <td>neutral</td>\n",
       "    </tr>\n",
       "    <tr>\n",
       "      <th>2</th>\n",
       "      <td>EmoV-DB_sorted/sam/Neutral/sam_neutral_00392.wav</td>\n",
       "      <td>sam</td>\n",
       "      <td>male</td>\n",
       "      <td>neutral</td>\n",
       "    </tr>\n",
       "    <tr>\n",
       "      <th>3</th>\n",
       "      <td>EmoV-DB_sorted/sam/Neutral/sam_neutral_00329.wav</td>\n",
       "      <td>sam</td>\n",
       "      <td>male</td>\n",
       "      <td>neutral</td>\n",
       "    </tr>\n",
       "    <tr>\n",
       "      <th>4</th>\n",
       "      <td>EmoV-DB_sorted/sam/Neutral/sam_neutral_00051.wav</td>\n",
       "      <td>sam</td>\n",
       "      <td>male</td>\n",
       "      <td>neutral</td>\n",
       "    </tr>\n",
       "    <tr>\n",
       "      <th>...</th>\n",
       "      <td>...</td>\n",
       "      <td>...</td>\n",
       "      <td>...</td>\n",
       "      <td>...</td>\n",
       "    </tr>\n",
       "    <tr>\n",
       "      <th>6893</th>\n",
       "      <td>EmoV-DB_sorted/josh/Amused/josh_amused00179.wav</td>\n",
       "      <td>josh</td>\n",
       "      <td>male</td>\n",
       "      <td>amused</td>\n",
       "    </tr>\n",
       "    <tr>\n",
       "      <th>6894</th>\n",
       "      <td>EmoV-DB_sorted/josh/Amused/josh_amused00045.wav</td>\n",
       "      <td>josh</td>\n",
       "      <td>male</td>\n",
       "      <td>amused</td>\n",
       "    </tr>\n",
       "    <tr>\n",
       "      <th>6895</th>\n",
       "      <td>EmoV-DB_sorted/josh/Amused/josh_amused00078.wav</td>\n",
       "      <td>josh</td>\n",
       "      <td>male</td>\n",
       "      <td>amused</td>\n",
       "    </tr>\n",
       "    <tr>\n",
       "      <th>6896</th>\n",
       "      <td>EmoV-DB_sorted/josh/Amused/josh_amused00248.wav</td>\n",
       "      <td>josh</td>\n",
       "      <td>male</td>\n",
       "      <td>amused</td>\n",
       "    </tr>\n",
       "    <tr>\n",
       "      <th>6897</th>\n",
       "      <td>EmoV-DB_sorted/josh/Amused/josh_amused00182.wav</td>\n",
       "      <td>josh</td>\n",
       "      <td>male</td>\n",
       "      <td>amused</td>\n",
       "    </tr>\n",
       "  </tbody>\n",
       "</table>\n",
       "<p>6898 rows × 4 columns</p>\n",
       "</div>\n",
       "      <button class=\"colab-df-convert\" onclick=\"convertToInteractive('df-d45c302c-2176-4dab-b58f-036e4598d15d')\"\n",
       "              title=\"Convert this dataframe to an interactive table.\"\n",
       "              style=\"display:none;\">\n",
       "        \n",
       "  <svg xmlns=\"http://www.w3.org/2000/svg\" height=\"24px\"viewBox=\"0 0 24 24\"\n",
       "       width=\"24px\">\n",
       "    <path d=\"M0 0h24v24H0V0z\" fill=\"none\"/>\n",
       "    <path d=\"M18.56 5.44l.94 2.06.94-2.06 2.06-.94-2.06-.94-.94-2.06-.94 2.06-2.06.94zm-11 1L8.5 8.5l.94-2.06 2.06-.94-2.06-.94L8.5 2.5l-.94 2.06-2.06.94zm10 10l.94 2.06.94-2.06 2.06-.94-2.06-.94-.94-2.06-.94 2.06-2.06.94z\"/><path d=\"M17.41 7.96l-1.37-1.37c-.4-.4-.92-.59-1.43-.59-.52 0-1.04.2-1.43.59L10.3 9.45l-7.72 7.72c-.78.78-.78 2.05 0 2.83L4 21.41c.39.39.9.59 1.41.59.51 0 1.02-.2 1.41-.59l7.78-7.78 2.81-2.81c.8-.78.8-2.07 0-2.86zM5.41 20L4 18.59l7.72-7.72 1.47 1.35L5.41 20z\"/>\n",
       "  </svg>\n",
       "      </button>\n",
       "      \n",
       "  <style>\n",
       "    .colab-df-container {\n",
       "      display:flex;\n",
       "      flex-wrap:wrap;\n",
       "      gap: 12px;\n",
       "    }\n",
       "\n",
       "    .colab-df-convert {\n",
       "      background-color: #E8F0FE;\n",
       "      border: none;\n",
       "      border-radius: 50%;\n",
       "      cursor: pointer;\n",
       "      display: none;\n",
       "      fill: #1967D2;\n",
       "      height: 32px;\n",
       "      padding: 0 0 0 0;\n",
       "      width: 32px;\n",
       "    }\n",
       "\n",
       "    .colab-df-convert:hover {\n",
       "      background-color: #E2EBFA;\n",
       "      box-shadow: 0px 1px 2px rgba(60, 64, 67, 0.3), 0px 1px 3px 1px rgba(60, 64, 67, 0.15);\n",
       "      fill: #174EA6;\n",
       "    }\n",
       "\n",
       "    [theme=dark] .colab-df-convert {\n",
       "      background-color: #3B4455;\n",
       "      fill: #D2E3FC;\n",
       "    }\n",
       "\n",
       "    [theme=dark] .colab-df-convert:hover {\n",
       "      background-color: #434B5C;\n",
       "      box-shadow: 0px 1px 3px 1px rgba(0, 0, 0, 0.15);\n",
       "      filter: drop-shadow(0px 1px 2px rgba(0, 0, 0, 0.3));\n",
       "      fill: #FFFFFF;\n",
       "    }\n",
       "  </style>\n",
       "\n",
       "      <script>\n",
       "        const buttonEl =\n",
       "          document.querySelector('#df-d45c302c-2176-4dab-b58f-036e4598d15d button.colab-df-convert');\n",
       "        buttonEl.style.display =\n",
       "          google.colab.kernel.accessAllowed ? 'block' : 'none';\n",
       "\n",
       "        async function convertToInteractive(key) {\n",
       "          const element = document.querySelector('#df-d45c302c-2176-4dab-b58f-036e4598d15d');\n",
       "          const dataTable =\n",
       "            await google.colab.kernel.invokeFunction('convertToInteractive',\n",
       "                                                     [key], {});\n",
       "          if (!dataTable) return;\n",
       "\n",
       "          const docLinkHtml = 'Like what you see? Visit the ' +\n",
       "            '<a target=\"_blank\" href=https://colab.research.google.com/notebooks/data_table.ipynb>data table notebook</a>'\n",
       "            + ' to learn more about interactive tables.';\n",
       "          element.innerHTML = '';\n",
       "          dataTable['output_type'] = 'display_data';\n",
       "          await google.colab.output.renderOutput(dataTable, element);\n",
       "          const docLink = document.createElement('div');\n",
       "          docLink.innerHTML = docLinkHtml;\n",
       "          element.appendChild(docLink);\n",
       "        }\n",
       "      </script>\n",
       "    </div>\n",
       "  </div>\n",
       "  "
      ],
      "text/plain": [
       "                                             file_path actor   sex  emotion\n",
       "0     EmoV-DB_sorted/sam/Neutral/sam_neutral_00057.wav   sam  male  neutral\n",
       "1     EmoV-DB_sorted/sam/Neutral/sam_neutral_00068.wav   sam  male  neutral\n",
       "2     EmoV-DB_sorted/sam/Neutral/sam_neutral_00392.wav   sam  male  neutral\n",
       "3     EmoV-DB_sorted/sam/Neutral/sam_neutral_00329.wav   sam  male  neutral\n",
       "4     EmoV-DB_sorted/sam/Neutral/sam_neutral_00051.wav   sam  male  neutral\n",
       "...                                                ...   ...   ...      ...\n",
       "6893   EmoV-DB_sorted/josh/Amused/josh_amused00179.wav  josh  male   amused\n",
       "6894   EmoV-DB_sorted/josh/Amused/josh_amused00045.wav  josh  male   amused\n",
       "6895   EmoV-DB_sorted/josh/Amused/josh_amused00078.wav  josh  male   amused\n",
       "6896   EmoV-DB_sorted/josh/Amused/josh_amused00248.wav  josh  male   amused\n",
       "6897   EmoV-DB_sorted/josh/Amused/josh_amused00182.wav  josh  male   amused\n",
       "\n",
       "[6898 rows x 4 columns]"
      ]
     },
     "execution_count": 8,
     "metadata": {},
     "output_type": "execute_result"
    }
   ],
   "source": [
    "df = pd.DataFrame({\"file_path\" : file_path, \"actor\" : file_actor})\n",
    "df[\"sex\"] = df[\"actor\"].apply(lambda x: \"female\" if x in [\"jenie\", \"bea\"] else 'male')\n",
    "df[\"emotion\"] = (file_emotion)\n",
    "\n",
    "df"
   ]
  },
  {
   "cell_type": "markdown",
   "id": "82e60ebc",
   "metadata": {
    "id": "0b1ce137"
   },
   "source": [
    "### Creating a Larger Dataset with Randomized Filtering (Maybe? If I have Time )\n",
    "#### Will come back to this for a more polished final product\n",
    "\n",
    "#### 1 will add noise to many  randomized files (in random amounts but not enough to drown out speech)\n",
    "#### 2 Randomly pitch up/ down data by a variable percentage (again not enough to make incomprehensible)\n",
    "#### 3 Speed up/slow down (while maintaining pitch) by up to 50%\n",
    "#### Can do a few pass-throughs of dataset \n",
    "#### Randomly assign 1,2, 3 or a combination to a file \n",
    "\n",
    "\n",
    "## Come back to this in the future (after MVP or after )\n",
    "\n",
    "### Increase Dataset with new data to train on with augmented data - (add noise) add more diverse voices/accents"
   ]
  },
  {
   "cell_type": "code",
   "execution_count": null,
   "id": "fc5a4182",
   "metadata": {
    "colab": {
     "base_uri": "https://localhost:8080/",
     "height": 404
    },
    "id": "833a284a",
    "outputId": "e988e0b6-2dd2-41d6-a211-8ff7a83b3683"
   },
   "outputs": [
    {
     "data": {
      "image/png": "[encoded data removed]",
      "text/plain": [
       "<Figure size 720x432 with 1 Axes>"
      ]
     },
     "metadata": {
      "needs_background": "light"
     },
     "output_type": "display_data"
    }
   ],
   "source": [
    "file_name='EmoV-DB_sorted/sam/Amused/sam_amused_00003.wav'\n",
    "\n",
    "\n",
    "\n",
    "audio_data, sampling_rate = librosa.load(file_name)\n",
    "fig, ax = plt.subplots(figsize=(10,6))\n",
    "librosa.display.waveshow(audio_data,sr=sampling_rate)\n",
    "# ipd.Audio(file_name)\n",
    "ax.set(title='Waveform Plot', ylabel='Amplitude')\n",
    "ax.label_outer();\n",
    "# plt.savefig('img/waveforms/sam_amused_00003.wav')\n",
    "\n",
    "\n",
    "\n"
   ]
  },
  {
   "cell_type": "code",
   "execution_count": null,
   "id": "ed42be4f",
   "metadata": {
    "colab": {
     "base_uri": "https://localhost:8080/",
     "height": 350
    },
    "id": "fcf45481",
    "outputId": "74fde288-20e6-48ba-9ede-c310c8673fad"
   },
   "outputs": [
    {
     "data": {
      "image/png": "[encoded data removed]",
      "text/plain": [
       "<Figure size 1800x360 with 2 Axes>"
      ]
     },
     "metadata": {
      "needs_background": "light"
     },
     "output_type": "display_data"
    }
   ],
   "source": [
    "# Creating A basic Mel Spectrogram from our audio sample above \n",
    "spectrogram = librosa.feature.melspectrogram(audio_data)\n",
    "s_db = librosa.amplitude_to_db(spectrogram)\n",
    "fig, ax = plt.subplots(figsize=(25, 5))\n",
    "\n",
    "amuse = librosa.display.specshow(s_db, sr=sampling_rate, x_axis='time', y_axis='mel', ax=ax)\n",
    "ax.set(title=\"Amused\")\n",
    "fig.colorbar(amuse, ax=ax);\n",
    "##plt.savefig('file/path')"
   ]
  },
  {
   "cell_type": "markdown",
   "id": "91da7c49",
   "metadata": {
    "id": "a1b39501"
   },
   "source": [
    "## EDA Visuals"
   ]
  },
  {
   "cell_type": "code",
   "execution_count": null,
   "id": "d05f82aa",
   "metadata": {
    "colab": {
     "base_uri": "https://localhost:8080/"
    },
    "id": "83c872e5",
    "outputId": "2a3089eb-a6e7-4e5b-ffca-12bbe756f4e1"
   },
   "outputs": [
    {
     "data": {
      "text/plain": [
       "sleepy       1721\n",
       "neutral      1569\n",
       "amused       1321\n",
       "angry        1268\n",
       "disgusted    1019\n",
       "Name: emotion, dtype: int64"
      ]
     },
     "execution_count": 11,
     "metadata": {},
     "output_type": "execute_result"
    }
   ],
   "source": [
    "df.emotion.value_counts()"
   ]
  },
  {
   "cell_type": "code",
   "execution_count": null,
   "id": "8664574e",
   "metadata": {
    "colab": {
     "base_uri": "https://localhost:8080/",
     "height": 580
    },
    "id": "ae04aeb2",
    "outputId": "a97a43e4-fe52-4eb1-b810-29aadc1e9e12"
   },
   "outputs": [
    {
     "name": "stderr",
     "output_type": "stream",
     "text": [
      "/usr/local/lib/python3.7/dist-packages/seaborn/_decorators.py:43: FutureWarning: Pass the following variable as a keyword arg: x. From version 0.12, the only valid positional argument will be `data`, and passing other arguments without an explicit keyword will result in an error or misinterpretation.\n",
      "  FutureWarning\n"
     ]
    },
    {
     "data": {
      "image/png": "[encoded data removed]",
      "text/plain": [
       "<Figure size 1152x576 with 1 Axes>"
      ]
     },
     "metadata": {
      "needs_background": "light"
     },
     "output_type": "display_data"
    }
   ],
   "source": [
    "fig, ax = plt.subplots(figsize=(16, 8))\n",
    "sns.countplot(df.emotion)\n",
    "plt.title('Emotions in Data Set', size=20)\n",
    "plt.ylabel('Count', size=14)\n",
    "plt.xlabel('Emotions', size=14)\n",
    "plt.xticks(size=12)\n",
    "sns.despine(top=True, right=True, left=False, bottom=False)\n",
    "# plt.savefig('img/plots/Emotion_count')\n",
    "plt.show()"
   ]
  },
  {
   "cell_type": "code",
   "execution_count": null,
   "id": "341abdaf",
   "metadata": {
    "colab": {
     "base_uri": "https://localhost:8080/",
     "height": 667
    },
    "id": "426b4ef0",
    "outputId": "1fb14730-746c-4fe3-9e8d-b5f729c19fc7"
   },
   "outputs": [
    {
     "name": "stdout",
     "output_type": "stream",
     "text": [
      "sam      2453\n",
      "jenie    1795\n",
      "bea      1787\n",
      "josh      863\n",
      "Name: actor, dtype: int64\n"
     ]
    },
    {
     "name": "stderr",
     "output_type": "stream",
     "text": [
      "/usr/local/lib/python3.7/dist-packages/seaborn/_decorators.py:43: FutureWarning: Pass the following variable as a keyword arg: x. From version 0.12, the only valid positional argument will be `data`, and passing other arguments without an explicit keyword will result in an error or misinterpretation.\n",
      "  FutureWarning\n"
     ]
    },
    {
     "data": {
      "image/png": "[encoded data removed]",
      "text/plain": [
       "<Figure size 1152x576 with 1 Axes>"
      ]
     },
     "metadata": {
      "needs_background": "light"
     },
     "output_type": "display_data"
    }
   ],
   "source": [
    "print(df.actor.value_counts())\n",
    "\n",
    "fig, ax = plt.subplots(figsize=(16, 8))\n",
    "sns.countplot(df.actor)\n",
    "plt.title('Number of Samples by Actor', size=20)\n",
    "plt.ylabel('Number of Files', size=14)\n",
    "plt.xlabel('Actor', size=14)\n",
    "plt.xticks(size=12)\n",
    "sns.despine(top=True, right=True, left=False, bottom=False)\n",
    "# plt.savefig('img/plots/Actor_count')\n",
    "plt.show()"
   ]
  },
  {
   "cell_type": "code",
   "execution_count": null,
   "id": "cc66a791",
   "metadata": {
    "colab": {
     "base_uri": "https://localhost:8080/",
     "height": 632
    },
    "id": "b7d45e17",
    "outputId": "e3379290-d8b6-4077-e614-af33981a9126"
   },
   "outputs": [
    {
     "name": "stdout",
     "output_type": "stream",
     "text": [
      "female    3582\n",
      "male      3316\n",
      "Name: sex, dtype: int64\n"
     ]
    },
    {
     "name": "stderr",
     "output_type": "stream",
     "text": [
      "/usr/local/lib/python3.7/dist-packages/seaborn/_decorators.py:43: FutureWarning: Pass the following variable as a keyword arg: x. From version 0.12, the only valid positional argument will be `data`, and passing other arguments without an explicit keyword will result in an error or misinterpretation.\n",
      "  FutureWarning\n"
     ]
    },
    {
     "data": {
      "image/png": "[encoded data removed]",
      "text/plain": [
       "<Figure size 1152x576 with 1 Axes>"
      ]
     },
     "metadata": {
      "needs_background": "light"
     },
     "output_type": "display_data"
    }
   ],
   "source": [
    "print(df.sex.value_counts())\n",
    "\n",
    "fig, ax = plt.subplots(figsize=(16, 8))\n",
    "sns.countplot(df.sex)\n",
    "plt.title('Number of Samples by Sex', size=20)\n",
    "plt.ylabel('Number of Files', size=14)\n",
    "plt.xlabel('Sex', size=14)\n",
    "plt.xticks(size=12)\n",
    "sns.despine(top=True, right=True, left=False, bottom=False)\n",
    "# plt.savefig('img/plots/sex_count')\n",
    "plt.show()"
   ]
  },
  {
   "cell_type": "code",
   "execution_count": null,
   "id": "0fc7cd04",
   "metadata": {
    "id": "6f93f147"
   },
   "outputs": [],
   "source": []
  },
  {
   "cell_type": "code",
   "execution_count": null,
   "id": "d9980a9b",
   "metadata": {
    "id": "a52bf247"
   },
   "outputs": [],
   "source": []
  },
  {
   "cell_type": "code",
   "execution_count": null,
   "id": "ca277bad",
   "metadata": {
    "id": "a7cca6fc"
   },
   "outputs": [],
   "source": []
  },
  {
   "cell_type": "markdown",
   "id": "605bf864",
   "metadata": {
    "id": "8c9a7438"
   },
   "source": [
    "We will need to agument data to account for the variablity in human speech and audio equipment \n",
    "Will add random whitenoise\n",
    "Will randomly speed up/slow down audio\n",
    "NO PITCH CHANGE!\n",
    "\n",
    "Will then do Time and Frequency Masking with SpecAugment to prevent overfitting and to help the model generalise better. The masked sections are replaced with the mean value. https://towardsdatascience.com/audio-deep-learning-made-simple-sound-classification-step-by-step-cebc936bbe5 for markdown info writeup\n"
   ]
  },
  {
   "cell_type": "markdown",
   "id": "dbeef1c2",
   "metadata": {
    "id": "61d81f0b"
   },
   "source": [
    "## Augmenting the Data\n",
    "\n",
    "Will augment raw files and save as new randomized files in new directory_1\n",
    "\n",
    "Will get spectrograms and save in new directory_2\n",
    "\n",
    "Then will do Time and Frequency Masking and get finalized spectrograms and save in new directory_3"
   ]
  },
  {
   "cell_type": "markdown",
   "id": "367e1638",
   "metadata": {
    "id": "a097e6cc"
   },
   "source": [
    "# Will come back to Data Augmentation later for MVP\n",
    "\n",
    "\n",
    "# For now lets just convert to raw spectrograms for the baseline\n"
   ]
  },
  {
   "cell_type": "code",
   "execution_count": null,
   "id": "76f2cd12",
   "metadata": {
    "id": "b56a7314"
   },
   "outputs": [],
   "source": [
    "def spectrogrammer(path):\n",
    "    \n",
    "    audio_data, sampling_rate = librosa.load(path)\n",
    "    \n",
    "    spectro = librosa.feature.melspectrogram(audio_data)\n",
    "    \n",
    "    s_db = librosa.amplitude_to_db(spectro)\n",
    "    \n",
    "    fig, ax = plt.subplots(figsize=(20, 5))\n",
    "    \n",
    "    new_s = librosa.display.specshow(s_db, sr=sampling_rate, ax=ax)\n",
    "    \n",
    "#     ax.set(title=f\"{path}\")\n",
    "    \n",
    "#     fig.colorbar(new_s, ax=ax) #good for my analysis but not needed for CNN\n",
    "    os.path.basename(path)\n",
    "\n",
    "    path_stripped = os.path.basename(path).strip(\".wav\")\n",
    "    \n",
    "    unique_name = path_stripped\n",
    "#     ax.set(title=f\"{unique_name}\")    \n",
    "    new_path = ('img/spectrograms_no_aug_color/'+ unique_name)\n",
    "    plt.savefig(new_path)"
   ]
  },
  {
   "cell_type": "code",
   "execution_count": null,
   "id": "a6593faa",
   "metadata": {
    "id": "ce8020a5"
   },
   "outputs": [],
   "source": [
    "# import opensoundscape\n",
    "# from opensoundscape.audio import Audio\n",
    "# from opensoundscape.spectrogram import Spectrogram\n",
    "\n",
    "\n",
    "\n",
    "# def spectrogrammer2(patho):\n",
    "    \n",
    "#     audio_object = Audio.from_file(patho)\n",
    "#     spectrogram_object = Spectrogram.from_audio(audio_object)\n",
    "#     image = spectrogram_object.to_image(shape=(512,1024))\n",
    "#     path_stripped = os.path.basename(patho).strip(\".wav\")\n",
    "#     unique_name = path_stripped\n",
    "#     new_path = ('img/spectrograms_no_aug_bw/'+ unique_name)\n",
    "#     image.save(new_path+\".png\")\n",
    "\n",
    "# #Much, Much, Much faster but in b&W"
   ]
  },
  {
   "cell_type": "code",
   "execution_count": null,
   "id": "b209cde4",
   "metadata": {
    "id": "b1b9bc5b"
   },
   "outputs": [],
   "source": [
    "# tester = df.head()\n",
    "\n",
    "# tester[\"file_path\"].apply(lambda x: spectrogrammer2(x))"
   ]
  },
  {
   "cell_type": "code",
   "execution_count": null,
   "id": "12b3ae9c",
   "metadata": {
    "colab": {
     "base_uri": "https://localhost:8080/"
    },
    "id": "ce654676",
    "outputId": "0a248a82-c83f-4c6e-b03b-c34d90949332"
   },
   "outputs": [
    {
     "data": {
      "text/plain": [
       "6898"
      ]
     },
     "execution_count": 18,
     "metadata": {},
     "output_type": "execute_result"
    }
   ],
   "source": [
    "# df.head()\n",
    "df[\"file_path\"].count()"
   ]
  },
  {
   "cell_type": "code",
   "execution_count": null,
   "id": "8347080c",
   "metadata": {
    "id": "2efe0b38"
   },
   "outputs": [],
   "source": [
    "# df[\"file_path\"].apply(lambda x: spectrogrammer(x))#Use color image for better contrast\n",
    "# df[\"file_path\"].apply(lambda x: spectrogrammer2(x)) #Use color image for better contrast"
   ]
  },
  {
   "cell_type": "code",
   "execution_count": null,
   "id": "1d86e390",
   "metadata": {
    "id": "8dc50613"
   },
   "outputs": [],
   "source": [
    "img_path = 'img/'\n",
    "img_dir_list = os.listdir(img_path) \n",
    "img_dir_list.sort\n",
    "\n",
    "non_aug_path = []\n",
    "\n",
    "for dir in img_dir_list:\n",
    "    if dir.startswith('spectrograms_no_aug_color'):\n",
    "        files = os.listdir(img_path + dir)\n",
    "        for file in files:\n",
    "            if file.startswith('.'):\n",
    "                pass\n",
    "            else:\n",
    "                non_aug_path.append(img_path + dir + '/' + file)\n",
    "    else: \n",
    "        pass\n",
    "    \n",
    "    "
   ]
  },
  {
   "cell_type": "code",
   "execution_count": null,
   "id": "2b5cc4e2",
   "metadata": {
    "colab": {
     "base_uri": "https://localhost:8080/"
    },
    "id": "fa4ea837",
    "outputId": "1761b0ca-277e-4d16-ffd2-d3b498eae5ee"
   },
   "outputs": [
    {
     "data": {
      "text/plain": [
       "5301"
      ]
     },
     "execution_count": 21,
     "metadata": {},
     "output_type": "execute_result"
    }
   ],
   "source": [
    "len(non_aug_path)"
   ]
  },
  {
   "cell_type": "code",
   "execution_count": null,
   "id": "3dde3b83",
   "metadata": {
    "id": "299bd705"
   },
   "outputs": [],
   "source": [
    "# non_aug_path"
   ]
  },
  {
   "cell_type": "code",
   "execution_count": null,
   "id": "37e4af87",
   "metadata": {
    "colab": {
     "base_uri": "https://localhost:8080/",
     "height": 424
    },
    "id": "31680796",
    "outputId": "634330e1-51bf-483b-d06b-e5c7614a7173"
   },
   "outputs": [
    {
     "data": {
      "text/html": [
       "\n",
       "  <div id=\"df-04879630-b005-44b8-8729-251b7387bd01\">\n",
       "    <div class=\"colab-df-container\">\n",
       "      <div>\n",
       "<style scoped>\n",
       "    .dataframe tbody tr th:only-of-type {\n",
       "        vertical-align: middle;\n",
       "    }\n",
       "\n",
       "    .dataframe tbody tr th {\n",
       "        vertical-align: top;\n",
       "    }\n",
       "\n",
       "    .dataframe thead th {\n",
       "        text-align: right;\n",
       "    }\n",
       "</style>\n",
       "<table border=\"1\" class=\"dataframe\">\n",
       "  <thead>\n",
       "    <tr style=\"text-align: right;\">\n",
       "      <th></th>\n",
       "      <th>file_path</th>\n",
       "      <th>actor</th>\n",
       "      <th>sex</th>\n",
       "      <th>emotion</th>\n",
       "    </tr>\n",
       "  </thead>\n",
       "  <tbody>\n",
       "    <tr>\n",
       "      <th>0</th>\n",
       "      <td>EmoV-DB_sorted/sam/Neutral/sam_neutral_00057.wav</td>\n",
       "      <td>sam</td>\n",
       "      <td>male</td>\n",
       "      <td>neutral</td>\n",
       "    </tr>\n",
       "    <tr>\n",
       "      <th>1</th>\n",
       "      <td>EmoV-DB_sorted/sam/Neutral/sam_neutral_00068.wav</td>\n",
       "      <td>sam</td>\n",
       "      <td>male</td>\n",
       "      <td>neutral</td>\n",
       "    </tr>\n",
       "    <tr>\n",
       "      <th>2</th>\n",
       "      <td>EmoV-DB_sorted/sam/Neutral/sam_neutral_00392.wav</td>\n",
       "      <td>sam</td>\n",
       "      <td>male</td>\n",
       "      <td>neutral</td>\n",
       "    </tr>\n",
       "    <tr>\n",
       "      <th>3</th>\n",
       "      <td>EmoV-DB_sorted/sam/Neutral/sam_neutral_00329.wav</td>\n",
       "      <td>sam</td>\n",
       "      <td>male</td>\n",
       "      <td>neutral</td>\n",
       "    </tr>\n",
       "    <tr>\n",
       "      <th>4</th>\n",
       "      <td>EmoV-DB_sorted/sam/Neutral/sam_neutral_00051.wav</td>\n",
       "      <td>sam</td>\n",
       "      <td>male</td>\n",
       "      <td>neutral</td>\n",
       "    </tr>\n",
       "    <tr>\n",
       "      <th>...</th>\n",
       "      <td>...</td>\n",
       "      <td>...</td>\n",
       "      <td>...</td>\n",
       "      <td>...</td>\n",
       "    </tr>\n",
       "    <tr>\n",
       "      <th>6893</th>\n",
       "      <td>EmoV-DB_sorted/josh/Amused/josh_amused00179.wav</td>\n",
       "      <td>josh</td>\n",
       "      <td>male</td>\n",
       "      <td>amused</td>\n",
       "    </tr>\n",
       "    <tr>\n",
       "      <th>6894</th>\n",
       "      <td>EmoV-DB_sorted/josh/Amused/josh_amused00045.wav</td>\n",
       "      <td>josh</td>\n",
       "      <td>male</td>\n",
       "      <td>amused</td>\n",
       "    </tr>\n",
       "    <tr>\n",
       "      <th>6895</th>\n",
       "      <td>EmoV-DB_sorted/josh/Amused/josh_amused00078.wav</td>\n",
       "      <td>josh</td>\n",
       "      <td>male</td>\n",
       "      <td>amused</td>\n",
       "    </tr>\n",
       "    <tr>\n",
       "      <th>6896</th>\n",
       "      <td>EmoV-DB_sorted/josh/Amused/josh_amused00248.wav</td>\n",
       "      <td>josh</td>\n",
       "      <td>male</td>\n",
       "      <td>amused</td>\n",
       "    </tr>\n",
       "    <tr>\n",
       "      <th>6897</th>\n",
       "      <td>EmoV-DB_sorted/josh/Amused/josh_amused00182.wav</td>\n",
       "      <td>josh</td>\n",
       "      <td>male</td>\n",
       "      <td>amused</td>\n",
       "    </tr>\n",
       "  </tbody>\n",
       "</table>\n",
       "<p>6898 rows × 4 columns</p>\n",
       "</div>\n",
       "      <button class=\"colab-df-convert\" onclick=\"convertToInteractive('df-04879630-b005-44b8-8729-251b7387bd01')\"\n",
       "              title=\"Convert this dataframe to an interactive table.\"\n",
       "              style=\"display:none;\">\n",
       "        \n",
       "  <svg xmlns=\"http://www.w3.org/2000/svg\" height=\"24px\"viewBox=\"0 0 24 24\"\n",
       "       width=\"24px\">\n",
       "    <path d=\"M0 0h24v24H0V0z\" fill=\"none\"/>\n",
       "    <path d=\"M18.56 5.44l.94 2.06.94-2.06 2.06-.94-2.06-.94-.94-2.06-.94 2.06-2.06.94zm-11 1L8.5 8.5l.94-2.06 2.06-.94-2.06-.94L8.5 2.5l-.94 2.06-2.06.94zm10 10l.94 2.06.94-2.06 2.06-.94-2.06-.94-.94-2.06-.94 2.06-2.06.94z\"/><path d=\"M17.41 7.96l-1.37-1.37c-.4-.4-.92-.59-1.43-.59-.52 0-1.04.2-1.43.59L10.3 9.45l-7.72 7.72c-.78.78-.78 2.05 0 2.83L4 21.41c.39.39.9.59 1.41.59.51 0 1.02-.2 1.41-.59l7.78-7.78 2.81-2.81c.8-.78.8-2.07 0-2.86zM5.41 20L4 18.59l7.72-7.72 1.47 1.35L5.41 20z\"/>\n",
       "  </svg>\n",
       "      </button>\n",
       "      \n",
       "  <style>\n",
       "    .colab-df-container {\n",
       "      display:flex;\n",
       "      flex-wrap:wrap;\n",
       "      gap: 12px;\n",
       "    }\n",
       "\n",
       "    .colab-df-convert {\n",
       "      background-color: #E8F0FE;\n",
       "      border: none;\n",
       "      border-radius: 50%;\n",
       "      cursor: pointer;\n",
       "      display: none;\n",
       "      fill: #1967D2;\n",
       "      height: 32px;\n",
       "      padding: 0 0 0 0;\n",
       "      width: 32px;\n",
       "    }\n",
       "\n",
       "    .colab-df-convert:hover {\n",
       "      background-color: #E2EBFA;\n",
       "      box-shadow: 0px 1px 2px rgba(60, 64, 67, 0.3), 0px 1px 3px 1px rgba(60, 64, 67, 0.15);\n",
       "      fill: #174EA6;\n",
       "    }\n",
       "\n",
       "    [theme=dark] .colab-df-convert {\n",
       "      background-color: #3B4455;\n",
       "      fill: #D2E3FC;\n",
       "    }\n",
       "\n",
       "    [theme=dark] .colab-df-convert:hover {\n",
       "      background-color: #434B5C;\n",
       "      box-shadow: 0px 1px 3px 1px rgba(0, 0, 0, 0.15);\n",
       "      filter: drop-shadow(0px 1px 2px rgba(0, 0, 0, 0.3));\n",
       "      fill: #FFFFFF;\n",
       "    }\n",
       "  </style>\n",
       "\n",
       "      <script>\n",
       "        const buttonEl =\n",
       "          document.querySelector('#df-04879630-b005-44b8-8729-251b7387bd01 button.colab-df-convert');\n",
       "        buttonEl.style.display =\n",
       "          google.colab.kernel.accessAllowed ? 'block' : 'none';\n",
       "\n",
       "        async function convertToInteractive(key) {\n",
       "          const element = document.querySelector('#df-04879630-b005-44b8-8729-251b7387bd01');\n",
       "          const dataTable =\n",
       "            await google.colab.kernel.invokeFunction('convertToInteractive',\n",
       "                                                     [key], {});\n",
       "          if (!dataTable) return;\n",
       "\n",
       "          const docLinkHtml = 'Like what you see? Visit the ' +\n",
       "            '<a target=\"_blank\" href=https://colab.research.google.com/notebooks/data_table.ipynb>data table notebook</a>'\n",
       "            + ' to learn more about interactive tables.';\n",
       "          element.innerHTML = '';\n",
       "          dataTable['output_type'] = 'display_data';\n",
       "          await google.colab.output.renderOutput(dataTable, element);\n",
       "          const docLink = document.createElement('div');\n",
       "          docLink.innerHTML = docLinkHtml;\n",
       "          element.appendChild(docLink);\n",
       "        }\n",
       "      </script>\n",
       "    </div>\n",
       "  </div>\n",
       "  "
      ],
      "text/plain": [
       "                                             file_path actor   sex  emotion\n",
       "0     EmoV-DB_sorted/sam/Neutral/sam_neutral_00057.wav   sam  male  neutral\n",
       "1     EmoV-DB_sorted/sam/Neutral/sam_neutral_00068.wav   sam  male  neutral\n",
       "2     EmoV-DB_sorted/sam/Neutral/sam_neutral_00392.wav   sam  male  neutral\n",
       "3     EmoV-DB_sorted/sam/Neutral/sam_neutral_00329.wav   sam  male  neutral\n",
       "4     EmoV-DB_sorted/sam/Neutral/sam_neutral_00051.wav   sam  male  neutral\n",
       "...                                                ...   ...   ...      ...\n",
       "6893   EmoV-DB_sorted/josh/Amused/josh_amused00179.wav  josh  male   amused\n",
       "6894   EmoV-DB_sorted/josh/Amused/josh_amused00045.wav  josh  male   amused\n",
       "6895   EmoV-DB_sorted/josh/Amused/josh_amused00078.wav  josh  male   amused\n",
       "6896   EmoV-DB_sorted/josh/Amused/josh_amused00248.wav  josh  male   amused\n",
       "6897   EmoV-DB_sorted/josh/Amused/josh_amused00182.wav  josh  male   amused\n",
       "\n",
       "[6898 rows x 4 columns]"
      ]
     },
     "execution_count": 23,
     "metadata": {},
     "output_type": "execute_result"
    }
   ],
   "source": [
    "df"
   ]
  },
  {
   "cell_type": "code",
   "execution_count": null,
   "id": "97143459",
   "metadata": {
    "id": "db371c50"
   },
   "outputs": [],
   "source": [
    "\n",
    "def path_rewriter(items):\n",
    "    path_pieces = items.split(\"/\", 3)\n",
    "    stripped = path_pieces[3].strip(\".wav\")\n",
    "    return(f\"img/spectrograms_no_aug_color/{stripped}.png\")\n",
    "\n",
    "\n",
    "    \n",
    "df[\"no_aug_img_path\"] = df[\"file_path\"].apply(lambda x : path_rewriter(x))"
   ]
  },
  {
   "cell_type": "code",
   "execution_count": null,
   "id": "6ab6fd2a",
   "metadata": {
    "colab": {
     "base_uri": "https://localhost:8080/",
     "height": 424
    },
    "id": "f72e18ec",
    "outputId": "5f5de516-42d4-4c06-c172-ce00822eaef2"
   },
   "outputs": [
    {
     "data": {
      "text/html": [
       "\n",
       "  <div id=\"df-084bcce9-0d45-4085-9cde-61035db52474\">\n",
       "    <div class=\"colab-df-container\">\n",
       "      <div>\n",
       "<style scoped>\n",
       "    .dataframe tbody tr th:only-of-type {\n",
       "        vertical-align: middle;\n",
       "    }\n",
       "\n",
       "    .dataframe tbody tr th {\n",
       "        vertical-align: top;\n",
       "    }\n",
       "\n",
       "    .dataframe thead th {\n",
       "        text-align: right;\n",
       "    }\n",
       "</style>\n",
       "<table border=\"1\" class=\"dataframe\">\n",
       "  <thead>\n",
       "    <tr style=\"text-align: right;\">\n",
       "      <th></th>\n",
       "      <th>file_path</th>\n",
       "      <th>actor</th>\n",
       "      <th>sex</th>\n",
       "      <th>emotion</th>\n",
       "      <th>no_aug_img_path</th>\n",
       "    </tr>\n",
       "  </thead>\n",
       "  <tbody>\n",
       "    <tr>\n",
       "      <th>0</th>\n",
       "      <td>EmoV-DB_sorted/sam/Neutral/sam_neutral_00057.wav</td>\n",
       "      <td>sam</td>\n",
       "      <td>male</td>\n",
       "      <td>neutral</td>\n",
       "      <td>img/spectrograms_no_aug_color/sam_neutral_0005...</td>\n",
       "    </tr>\n",
       "    <tr>\n",
       "      <th>1</th>\n",
       "      <td>EmoV-DB_sorted/sam/Neutral/sam_neutral_00068.wav</td>\n",
       "      <td>sam</td>\n",
       "      <td>male</td>\n",
       "      <td>neutral</td>\n",
       "      <td>img/spectrograms_no_aug_color/sam_neutral_0006...</td>\n",
       "    </tr>\n",
       "    <tr>\n",
       "      <th>2</th>\n",
       "      <td>EmoV-DB_sorted/sam/Neutral/sam_neutral_00392.wav</td>\n",
       "      <td>sam</td>\n",
       "      <td>male</td>\n",
       "      <td>neutral</td>\n",
       "      <td>img/spectrograms_no_aug_color/sam_neutral_0039...</td>\n",
       "    </tr>\n",
       "    <tr>\n",
       "      <th>3</th>\n",
       "      <td>EmoV-DB_sorted/sam/Neutral/sam_neutral_00329.wav</td>\n",
       "      <td>sam</td>\n",
       "      <td>male</td>\n",
       "      <td>neutral</td>\n",
       "      <td>img/spectrograms_no_aug_color/sam_neutral_0032...</td>\n",
       "    </tr>\n",
       "    <tr>\n",
       "      <th>4</th>\n",
       "      <td>EmoV-DB_sorted/sam/Neutral/sam_neutral_00051.wav</td>\n",
       "      <td>sam</td>\n",
       "      <td>male</td>\n",
       "      <td>neutral</td>\n",
       "      <td>img/spectrograms_no_aug_color/sam_neutral_0005...</td>\n",
       "    </tr>\n",
       "    <tr>\n",
       "      <th>...</th>\n",
       "      <td>...</td>\n",
       "      <td>...</td>\n",
       "      <td>...</td>\n",
       "      <td>...</td>\n",
       "      <td>...</td>\n",
       "    </tr>\n",
       "    <tr>\n",
       "      <th>6893</th>\n",
       "      <td>EmoV-DB_sorted/josh/Amused/josh_amused00179.wav</td>\n",
       "      <td>josh</td>\n",
       "      <td>male</td>\n",
       "      <td>amused</td>\n",
       "      <td>img/spectrograms_no_aug_color/josh_amused00179...</td>\n",
       "    </tr>\n",
       "    <tr>\n",
       "      <th>6894</th>\n",
       "      <td>EmoV-DB_sorted/josh/Amused/josh_amused00045.wav</td>\n",
       "      <td>josh</td>\n",
       "      <td>male</td>\n",
       "      <td>amused</td>\n",
       "      <td>img/spectrograms_no_aug_color/josh_amused00045...</td>\n",
       "    </tr>\n",
       "    <tr>\n",
       "      <th>6895</th>\n",
       "      <td>EmoV-DB_sorted/josh/Amused/josh_amused00078.wav</td>\n",
       "      <td>josh</td>\n",
       "      <td>male</td>\n",
       "      <td>amused</td>\n",
       "      <td>img/spectrograms_no_aug_color/josh_amused00078...</td>\n",
       "    </tr>\n",
       "    <tr>\n",
       "      <th>6896</th>\n",
       "      <td>EmoV-DB_sorted/josh/Amused/josh_amused00248.wav</td>\n",
       "      <td>josh</td>\n",
       "      <td>male</td>\n",
       "      <td>amused</td>\n",
       "      <td>img/spectrograms_no_aug_color/josh_amused00248...</td>\n",
       "    </tr>\n",
       "    <tr>\n",
       "      <th>6897</th>\n",
       "      <td>EmoV-DB_sorted/josh/Amused/josh_amused00182.wav</td>\n",
       "      <td>josh</td>\n",
       "      <td>male</td>\n",
       "      <td>amused</td>\n",
       "      <td>img/spectrograms_no_aug_color/josh_amused00182...</td>\n",
       "    </tr>\n",
       "  </tbody>\n",
       "</table>\n",
       "<p>6898 rows × 5 columns</p>\n",
       "</div>\n",
       "      <button class=\"colab-df-convert\" onclick=\"convertToInteractive('df-084bcce9-0d45-4085-9cde-61035db52474')\"\n",
       "              title=\"Convert this dataframe to an interactive table.\"\n",
       "              style=\"display:none;\">\n",
       "        \n",
       "  <svg xmlns=\"http://www.w3.org/2000/svg\" height=\"24px\"viewBox=\"0 0 24 24\"\n",
       "       width=\"24px\">\n",
       "    <path d=\"M0 0h24v24H0V0z\" fill=\"none\"/>\n",
       "    <path d=\"M18.56 5.44l.94 2.06.94-2.06 2.06-.94-2.06-.94-.94-2.06-.94 2.06-2.06.94zm-11 1L8.5 8.5l.94-2.06 2.06-.94-2.06-.94L8.5 2.5l-.94 2.06-2.06.94zm10 10l.94 2.06.94-2.06 2.06-.94-2.06-.94-.94-2.06-.94 2.06-2.06.94z\"/><path d=\"M17.41 7.96l-1.37-1.37c-.4-.4-.92-.59-1.43-.59-.52 0-1.04.2-1.43.59L10.3 9.45l-7.72 7.72c-.78.78-.78 2.05 0 2.83L4 21.41c.39.39.9.59 1.41.59.51 0 1.02-.2 1.41-.59l7.78-7.78 2.81-2.81c.8-.78.8-2.07 0-2.86zM5.41 20L4 18.59l7.72-7.72 1.47 1.35L5.41 20z\"/>\n",
       "  </svg>\n",
       "      </button>\n",
       "      \n",
       "  <style>\n",
       "    .colab-df-container {\n",
       "      display:flex;\n",
       "      flex-wrap:wrap;\n",
       "      gap: 12px;\n",
       "    }\n",
       "\n",
       "    .colab-df-convert {\n",
       "      background-color: #E8F0FE;\n",
       "      border: none;\n",
       "      border-radius: 50%;\n",
       "      cursor: pointer;\n",
       "      display: none;\n",
       "      fill: #1967D2;\n",
       "      height: 32px;\n",
       "      padding: 0 0 0 0;\n",
       "      width: 32px;\n",
       "    }\n",
       "\n",
       "    .colab-df-convert:hover {\n",
       "      background-color: #E2EBFA;\n",
       "      box-shadow: 0px 1px 2px rgba(60, 64, 67, 0.3), 0px 1px 3px 1px rgba(60, 64, 67, 0.15);\n",
       "      fill: #174EA6;\n",
       "    }\n",
       "\n",
       "    [theme=dark] .colab-df-convert {\n",
       "      background-color: #3B4455;\n",
       "      fill: #D2E3FC;\n",
       "    }\n",
       "\n",
       "    [theme=dark] .colab-df-convert:hover {\n",
       "      background-color: #434B5C;\n",
       "      box-shadow: 0px 1px 3px 1px rgba(0, 0, 0, 0.15);\n",
       "      filter: drop-shadow(0px 1px 2px rgba(0, 0, 0, 0.3));\n",
       "      fill: #FFFFFF;\n",
       "    }\n",
       "  </style>\n",
       "\n",
       "      <script>\n",
       "        const buttonEl =\n",
       "          document.querySelector('#df-084bcce9-0d45-4085-9cde-61035db52474 button.colab-df-convert');\n",
       "        buttonEl.style.display =\n",
       "          google.colab.kernel.accessAllowed ? 'block' : 'none';\n",
       "\n",
       "        async function convertToInteractive(key) {\n",
       "          const element = document.querySelector('#df-084bcce9-0d45-4085-9cde-61035db52474');\n",
       "          const dataTable =\n",
       "            await google.colab.kernel.invokeFunction('convertToInteractive',\n",
       "                                                     [key], {});\n",
       "          if (!dataTable) return;\n",
       "\n",
       "          const docLinkHtml = 'Like what you see? Visit the ' +\n",
       "            '<a target=\"_blank\" href=https://colab.research.google.com/notebooks/data_table.ipynb>data table notebook</a>'\n",
       "            + ' to learn more about interactive tables.';\n",
       "          element.innerHTML = '';\n",
       "          dataTable['output_type'] = 'display_data';\n",
       "          await google.colab.output.renderOutput(dataTable, element);\n",
       "          const docLink = document.createElement('div');\n",
       "          docLink.innerHTML = docLinkHtml;\n",
       "          element.appendChild(docLink);\n",
       "        }\n",
       "      </script>\n",
       "    </div>\n",
       "  </div>\n",
       "  "
      ],
      "text/plain": [
       "                                             file_path actor   sex  emotion  \\\n",
       "0     EmoV-DB_sorted/sam/Neutral/sam_neutral_00057.wav   sam  male  neutral   \n",
       "1     EmoV-DB_sorted/sam/Neutral/sam_neutral_00068.wav   sam  male  neutral   \n",
       "2     EmoV-DB_sorted/sam/Neutral/sam_neutral_00392.wav   sam  male  neutral   \n",
       "3     EmoV-DB_sorted/sam/Neutral/sam_neutral_00329.wav   sam  male  neutral   \n",
       "4     EmoV-DB_sorted/sam/Neutral/sam_neutral_00051.wav   sam  male  neutral   \n",
       "...                                                ...   ...   ...      ...   \n",
       "6893   EmoV-DB_sorted/josh/Amused/josh_amused00179.wav  josh  male   amused   \n",
       "6894   EmoV-DB_sorted/josh/Amused/josh_amused00045.wav  josh  male   amused   \n",
       "6895   EmoV-DB_sorted/josh/Amused/josh_amused00078.wav  josh  male   amused   \n",
       "6896   EmoV-DB_sorted/josh/Amused/josh_amused00248.wav  josh  male   amused   \n",
       "6897   EmoV-DB_sorted/josh/Amused/josh_amused00182.wav  josh  male   amused   \n",
       "\n",
       "                                        no_aug_img_path  \n",
       "0     img/spectrograms_no_aug_color/sam_neutral_0005...  \n",
       "1     img/spectrograms_no_aug_color/sam_neutral_0006...  \n",
       "2     img/spectrograms_no_aug_color/sam_neutral_0039...  \n",
       "3     img/spectrograms_no_aug_color/sam_neutral_0032...  \n",
       "4     img/spectrograms_no_aug_color/sam_neutral_0005...  \n",
       "...                                                 ...  \n",
       "6893  img/spectrograms_no_aug_color/josh_amused00179...  \n",
       "6894  img/spectrograms_no_aug_color/josh_amused00045...  \n",
       "6895  img/spectrograms_no_aug_color/josh_amused00078...  \n",
       "6896  img/spectrograms_no_aug_color/josh_amused00248...  \n",
       "6897  img/spectrograms_no_aug_color/josh_amused00182...  \n",
       "\n",
       "[6898 rows x 5 columns]"
      ]
     },
     "execution_count": 25,
     "metadata": {},
     "output_type": "execute_result"
    }
   ],
   "source": [
    "df"
   ]
  },
  {
   "cell_type": "markdown",
   "id": "f3921134",
   "metadata": {
    "id": "3bbb091e"
   },
   "source": [
    "# Now that we have our unaltered spectrograms and the matching paths, we can do our baseline Model for multiclass identification"
   ]
  },
  {
   "cell_type": "code",
   "execution_count": null,
   "id": "1e3492b0",
   "metadata": {
    "colab": {
     "base_uri": "https://localhost:8080/",
     "height": 424
    },
    "id": "0142a450",
    "outputId": "3dda5329-9a4c-4f40-fbcd-e2408c0c4d69"
   },
   "outputs": [
    {
     "data": {
      "text/html": [
       "\n",
       "  <div id=\"df-a6a3ba39-bef0-4c6e-9bf7-af32aabe2ffd\">\n",
       "    <div class=\"colab-df-container\">\n",
       "      <div>\n",
       "<style scoped>\n",
       "    .dataframe tbody tr th:only-of-type {\n",
       "        vertical-align: middle;\n",
       "    }\n",
       "\n",
       "    .dataframe tbody tr th {\n",
       "        vertical-align: top;\n",
       "    }\n",
       "\n",
       "    .dataframe thead th {\n",
       "        text-align: right;\n",
       "    }\n",
       "</style>\n",
       "<table border=\"1\" class=\"dataframe\">\n",
       "  <thead>\n",
       "    <tr style=\"text-align: right;\">\n",
       "      <th></th>\n",
       "      <th>no_aug_img_path</th>\n",
       "      <th>emotion</th>\n",
       "      <th>0</th>\n",
       "      <th>1</th>\n",
       "      <th>2</th>\n",
       "      <th>3</th>\n",
       "      <th>4</th>\n",
       "    </tr>\n",
       "  </thead>\n",
       "  <tbody>\n",
       "    <tr>\n",
       "      <th>0</th>\n",
       "      <td>img/spectrograms_no_aug_color/sam_neutral_0005...</td>\n",
       "      <td>neutral</td>\n",
       "      <td>0.0</td>\n",
       "      <td>0.0</td>\n",
       "      <td>0.0</td>\n",
       "      <td>1.0</td>\n",
       "      <td>0.0</td>\n",
       "    </tr>\n",
       "    <tr>\n",
       "      <th>1</th>\n",
       "      <td>img/spectrograms_no_aug_color/sam_neutral_0006...</td>\n",
       "      <td>neutral</td>\n",
       "      <td>0.0</td>\n",
       "      <td>0.0</td>\n",
       "      <td>0.0</td>\n",
       "      <td>1.0</td>\n",
       "      <td>0.0</td>\n",
       "    </tr>\n",
       "    <tr>\n",
       "      <th>2</th>\n",
       "      <td>img/spectrograms_no_aug_color/sam_neutral_0039...</td>\n",
       "      <td>neutral</td>\n",
       "      <td>0.0</td>\n",
       "      <td>0.0</td>\n",
       "      <td>0.0</td>\n",
       "      <td>1.0</td>\n",
       "      <td>0.0</td>\n",
       "    </tr>\n",
       "    <tr>\n",
       "      <th>3</th>\n",
       "      <td>img/spectrograms_no_aug_color/sam_neutral_0032...</td>\n",
       "      <td>neutral</td>\n",
       "      <td>0.0</td>\n",
       "      <td>0.0</td>\n",
       "      <td>0.0</td>\n",
       "      <td>1.0</td>\n",
       "      <td>0.0</td>\n",
       "    </tr>\n",
       "    <tr>\n",
       "      <th>4</th>\n",
       "      <td>img/spectrograms_no_aug_color/sam_neutral_0005...</td>\n",
       "      <td>neutral</td>\n",
       "      <td>0.0</td>\n",
       "      <td>0.0</td>\n",
       "      <td>0.0</td>\n",
       "      <td>1.0</td>\n",
       "      <td>0.0</td>\n",
       "    </tr>\n",
       "    <tr>\n",
       "      <th>...</th>\n",
       "      <td>...</td>\n",
       "      <td>...</td>\n",
       "      <td>...</td>\n",
       "      <td>...</td>\n",
       "      <td>...</td>\n",
       "      <td>...</td>\n",
       "      <td>...</td>\n",
       "    </tr>\n",
       "    <tr>\n",
       "      <th>6893</th>\n",
       "      <td>img/spectrograms_no_aug_color/josh_amused00179...</td>\n",
       "      <td>amused</td>\n",
       "      <td>1.0</td>\n",
       "      <td>0.0</td>\n",
       "      <td>0.0</td>\n",
       "      <td>0.0</td>\n",
       "      <td>0.0</td>\n",
       "    </tr>\n",
       "    <tr>\n",
       "      <th>6894</th>\n",
       "      <td>img/spectrograms_no_aug_color/josh_amused00045...</td>\n",
       "      <td>amused</td>\n",
       "      <td>1.0</td>\n",
       "      <td>0.0</td>\n",
       "      <td>0.0</td>\n",
       "      <td>0.0</td>\n",
       "      <td>0.0</td>\n",
       "    </tr>\n",
       "    <tr>\n",
       "      <th>6895</th>\n",
       "      <td>img/spectrograms_no_aug_color/josh_amused00078...</td>\n",
       "      <td>amused</td>\n",
       "      <td>1.0</td>\n",
       "      <td>0.0</td>\n",
       "      <td>0.0</td>\n",
       "      <td>0.0</td>\n",
       "      <td>0.0</td>\n",
       "    </tr>\n",
       "    <tr>\n",
       "      <th>6896</th>\n",
       "      <td>img/spectrograms_no_aug_color/josh_amused00248...</td>\n",
       "      <td>amused</td>\n",
       "      <td>1.0</td>\n",
       "      <td>0.0</td>\n",
       "      <td>0.0</td>\n",
       "      <td>0.0</td>\n",
       "      <td>0.0</td>\n",
       "    </tr>\n",
       "    <tr>\n",
       "      <th>6897</th>\n",
       "      <td>img/spectrograms_no_aug_color/josh_amused00182...</td>\n",
       "      <td>amused</td>\n",
       "      <td>1.0</td>\n",
       "      <td>0.0</td>\n",
       "      <td>0.0</td>\n",
       "      <td>0.0</td>\n",
       "      <td>0.0</td>\n",
       "    </tr>\n",
       "  </tbody>\n",
       "</table>\n",
       "<p>6898 rows × 7 columns</p>\n",
       "</div>\n",
       "      <button class=\"colab-df-convert\" onclick=\"convertToInteractive('df-a6a3ba39-bef0-4c6e-9bf7-af32aabe2ffd')\"\n",
       "              title=\"Convert this dataframe to an interactive table.\"\n",
       "              style=\"display:none;\">\n",
       "        \n",
       "  <svg xmlns=\"http://www.w3.org/2000/svg\" height=\"24px\"viewBox=\"0 0 24 24\"\n",
       "       width=\"24px\">\n",
       "    <path d=\"M0 0h24v24H0V0z\" fill=\"none\"/>\n",
       "    <path d=\"M18.56 5.44l.94 2.06.94-2.06 2.06-.94-2.06-.94-.94-2.06-.94 2.06-2.06.94zm-11 1L8.5 8.5l.94-2.06 2.06-.94-2.06-.94L8.5 2.5l-.94 2.06-2.06.94zm10 10l.94 2.06.94-2.06 2.06-.94-2.06-.94-.94-2.06-.94 2.06-2.06.94z\"/><path d=\"M17.41 7.96l-1.37-1.37c-.4-.4-.92-.59-1.43-.59-.52 0-1.04.2-1.43.59L10.3 9.45l-7.72 7.72c-.78.78-.78 2.05 0 2.83L4 21.41c.39.39.9.59 1.41.59.51 0 1.02-.2 1.41-.59l7.78-7.78 2.81-2.81c.8-.78.8-2.07 0-2.86zM5.41 20L4 18.59l7.72-7.72 1.47 1.35L5.41 20z\"/>\n",
       "  </svg>\n",
       "      </button>\n",
       "      \n",
       "  <style>\n",
       "    .colab-df-container {\n",
       "      display:flex;\n",
       "      flex-wrap:wrap;\n",
       "      gap: 12px;\n",
       "    }\n",
       "\n",
       "    .colab-df-convert {\n",
       "      background-color: #E8F0FE;\n",
       "      border: none;\n",
       "      border-radius: 50%;\n",
       "      cursor: pointer;\n",
       "      display: none;\n",
       "      fill: #1967D2;\n",
       "      height: 32px;\n",
       "      padding: 0 0 0 0;\n",
       "      width: 32px;\n",
       "    }\n",
       "\n",
       "    .colab-df-convert:hover {\n",
       "      background-color: #E2EBFA;\n",
       "      box-shadow: 0px 1px 2px rgba(60, 64, 67, 0.3), 0px 1px 3px 1px rgba(60, 64, 67, 0.15);\n",
       "      fill: #174EA6;\n",
       "    }\n",
       "\n",
       "    [theme=dark] .colab-df-convert {\n",
       "      background-color: #3B4455;\n",
       "      fill: #D2E3FC;\n",
       "    }\n",
       "\n",
       "    [theme=dark] .colab-df-convert:hover {\n",
       "      background-color: #434B5C;\n",
       "      box-shadow: 0px 1px 3px 1px rgba(0, 0, 0, 0.15);\n",
       "      filter: drop-shadow(0px 1px 2px rgba(0, 0, 0, 0.3));\n",
       "      fill: #FFFFFF;\n",
       "    }\n",
       "  </style>\n",
       "\n",
       "      <script>\n",
       "        const buttonEl =\n",
       "          document.querySelector('#df-a6a3ba39-bef0-4c6e-9bf7-af32aabe2ffd button.colab-df-convert');\n",
       "        buttonEl.style.display =\n",
       "          google.colab.kernel.accessAllowed ? 'block' : 'none';\n",
       "\n",
       "        async function convertToInteractive(key) {\n",
       "          const element = document.querySelector('#df-a6a3ba39-bef0-4c6e-9bf7-af32aabe2ffd');\n",
       "          const dataTable =\n",
       "            await google.colab.kernel.invokeFunction('convertToInteractive',\n",
       "                                                     [key], {});\n",
       "          if (!dataTable) return;\n",
       "\n",
       "          const docLinkHtml = 'Like what you see? Visit the ' +\n",
       "            '<a target=\"_blank\" href=https://colab.research.google.com/notebooks/data_table.ipynb>data table notebook</a>'\n",
       "            + ' to learn more about interactive tables.';\n",
       "          element.innerHTML = '';\n",
       "          dataTable['output_type'] = 'display_data';\n",
       "          await google.colab.output.renderOutput(dataTable, element);\n",
       "          const docLink = document.createElement('div');\n",
       "          docLink.innerHTML = docLinkHtml;\n",
       "          element.appendChild(docLink);\n",
       "        }\n",
       "      </script>\n",
       "    </div>\n",
       "  </div>\n",
       "  "
      ],
      "text/plain": [
       "                                        no_aug_img_path  emotion    0    1  \\\n",
       "0     img/spectrograms_no_aug_color/sam_neutral_0005...  neutral  0.0  0.0   \n",
       "1     img/spectrograms_no_aug_color/sam_neutral_0006...  neutral  0.0  0.0   \n",
       "2     img/spectrograms_no_aug_color/sam_neutral_0039...  neutral  0.0  0.0   \n",
       "3     img/spectrograms_no_aug_color/sam_neutral_0032...  neutral  0.0  0.0   \n",
       "4     img/spectrograms_no_aug_color/sam_neutral_0005...  neutral  0.0  0.0   \n",
       "...                                                 ...      ...  ...  ...   \n",
       "6893  img/spectrograms_no_aug_color/josh_amused00179...   amused  1.0  0.0   \n",
       "6894  img/spectrograms_no_aug_color/josh_amused00045...   amused  1.0  0.0   \n",
       "6895  img/spectrograms_no_aug_color/josh_amused00078...   amused  1.0  0.0   \n",
       "6896  img/spectrograms_no_aug_color/josh_amused00248...   amused  1.0  0.0   \n",
       "6897  img/spectrograms_no_aug_color/josh_amused00182...   amused  1.0  0.0   \n",
       "\n",
       "        2    3    4  \n",
       "0     0.0  1.0  0.0  \n",
       "1     0.0  1.0  0.0  \n",
       "2     0.0  1.0  0.0  \n",
       "3     0.0  1.0  0.0  \n",
       "4     0.0  1.0  0.0  \n",
       "...   ...  ...  ...  \n",
       "6893  0.0  0.0  0.0  \n",
       "6894  0.0  0.0  0.0  \n",
       "6895  0.0  0.0  0.0  \n",
       "6896  0.0  0.0  0.0  \n",
       "6897  0.0  0.0  0.0  \n",
       "\n",
       "[6898 rows x 7 columns]"
      ]
     },
     "execution_count": 26,
     "metadata": {},
     "output_type": "execute_result"
    }
   ],
   "source": [
    "toencode_df = df.copy()\n",
    "toencode_df.drop([\"file_path\", \"actor\", \"sex\"], axis = 1) #dropping uneeded columns for path/emotion\n",
    "toencode_df = toencode_df[['no_aug_img_path', 'emotion']] #reordering \n",
    "toencode_df\n",
    "\n",
    "from sklearn.preprocessing import OneHotEncoder\n",
    "\n",
    "#creating instance of one-hot-encoder\n",
    "encoder = OneHotEncoder(handle_unknown='ignore')\n",
    "target_encode = pd.DataFrame(encoder.fit_transform(toencode_df[['emotion']]).toarray())\n",
    "\n",
    "encoded_df = toencode_df.join(target_encode)\n",
    "encoded_df"
   ]
  },
  {
   "cell_type": "markdown",
   "id": "1246c2c6",
   "metadata": {
    "id": "IxY3HAleCyhl"
   },
   "source": [
    "You can see amused = 0, angry =1, disgusted = 2, neutral is 3, and sleepy is 4"
   ]
  },
  {
   "cell_type": "code",
   "execution_count": null,
   "id": "57d79ce9",
   "metadata": {
    "id": "6p6UZ-5A9TYf"
   },
   "outputs": [],
   "source": [
    "# encoded_df[encoded_df[4] == 1.0]"
   ]
  },
  {
   "cell_type": "markdown",
   "id": "c5e2c623",
   "metadata": {
    "id": "XKAnm9sR9BJT"
   },
   "source": []
  },
  {
   "cell_type": "code",
   "execution_count": null,
   "id": "13ea45b4",
   "metadata": {
    "id": "e8988eaf"
   },
   "outputs": [],
   "source": [
    "encoded_df.columns = [\"no_aug_img_path\",\t\"emotion\", \t\"amused\", \"angry\", \"disgusted\", \"neutral\", \"sleepy\"]\n",
    "ready_to_split = encoded_df.drop(columns = \"emotion\")"
   ]
  },
  {
   "cell_type": "markdown",
   "id": "59261bf8",
   "metadata": {
    "id": "25vsAUjdHfpS"
   },
   "source": [
    "Splitting the Files into a test and train folder\n",
    "\n",
    "\n",
    "for "
   ]
  },
  {
   "cell_type": "code",
   "execution_count": null,
   "id": "2fee0453",
   "metadata": {
    "id": "NCadEvIhFIJj"
   },
   "outputs": [],
   "source": [
    "X = ready_to_split[\"no_aug_img_path\"]\n",
    "y = ready_to_split.drop(columns = \"no_aug_img_path\")\n",
    "X_train, X_test, y_train, y_test = train_test_split(X, y, test_size=0.25, random_state=42, shuffle = True)\n"
   ]
  },
  {
   "cell_type": "code",
   "execution_count": null,
   "id": "81cad4be",
   "metadata": {
    "colab": {
     "base_uri": "https://localhost:8080/",
     "height": 424
    },
    "id": "VtRfNHB1FILy",
    "outputId": "7f4064c8-c541-4239-e2ab-01a900a5fa0e"
   },
   "outputs": [
    {
     "data": {
      "text/html": [
       "\n",
       "  <div id=\"df-05012291-83dd-4cc4-94e7-cff788bb2883\">\n",
       "    <div class=\"colab-df-container\">\n",
       "      <div>\n",
       "<style scoped>\n",
       "    .dataframe tbody tr th:only-of-type {\n",
       "        vertical-align: middle;\n",
       "    }\n",
       "\n",
       "    .dataframe tbody tr th {\n",
       "        vertical-align: top;\n",
       "    }\n",
       "\n",
       "    .dataframe thead th {\n",
       "        text-align: right;\n",
       "    }\n",
       "</style>\n",
       "<table border=\"1\" class=\"dataframe\">\n",
       "  <thead>\n",
       "    <tr style=\"text-align: right;\">\n",
       "      <th></th>\n",
       "      <th>amused</th>\n",
       "      <th>angry</th>\n",
       "      <th>disgusted</th>\n",
       "      <th>neutral</th>\n",
       "      <th>sleepy</th>\n",
       "    </tr>\n",
       "  </thead>\n",
       "  <tbody>\n",
       "    <tr>\n",
       "      <th>4538</th>\n",
       "      <td>1.0</td>\n",
       "      <td>0.0</td>\n",
       "      <td>0.0</td>\n",
       "      <td>0.0</td>\n",
       "      <td>0.0</td>\n",
       "    </tr>\n",
       "    <tr>\n",
       "      <th>3758</th>\n",
       "      <td>0.0</td>\n",
       "      <td>0.0</td>\n",
       "      <td>0.0</td>\n",
       "      <td>1.0</td>\n",
       "      <td>0.0</td>\n",
       "    </tr>\n",
       "    <tr>\n",
       "      <th>2271</th>\n",
       "      <td>1.0</td>\n",
       "      <td>0.0</td>\n",
       "      <td>0.0</td>\n",
       "      <td>0.0</td>\n",
       "      <td>0.0</td>\n",
       "    </tr>\n",
       "    <tr>\n",
       "      <th>947</th>\n",
       "      <td>0.0</td>\n",
       "      <td>0.0</td>\n",
       "      <td>0.0</td>\n",
       "      <td>0.0</td>\n",
       "      <td>1.0</td>\n",
       "    </tr>\n",
       "    <tr>\n",
       "      <th>877</th>\n",
       "      <td>0.0</td>\n",
       "      <td>0.0</td>\n",
       "      <td>0.0</td>\n",
       "      <td>0.0</td>\n",
       "      <td>1.0</td>\n",
       "    </tr>\n",
       "    <tr>\n",
       "      <th>...</th>\n",
       "      <td>...</td>\n",
       "      <td>...</td>\n",
       "      <td>...</td>\n",
       "      <td>...</td>\n",
       "      <td>...</td>\n",
       "    </tr>\n",
       "    <tr>\n",
       "      <th>3772</th>\n",
       "      <td>0.0</td>\n",
       "      <td>0.0</td>\n",
       "      <td>0.0</td>\n",
       "      <td>1.0</td>\n",
       "      <td>0.0</td>\n",
       "    </tr>\n",
       "    <tr>\n",
       "      <th>5191</th>\n",
       "      <td>0.0</td>\n",
       "      <td>0.0</td>\n",
       "      <td>1.0</td>\n",
       "      <td>0.0</td>\n",
       "      <td>0.0</td>\n",
       "    </tr>\n",
       "    <tr>\n",
       "      <th>5226</th>\n",
       "      <td>0.0</td>\n",
       "      <td>0.0</td>\n",
       "      <td>1.0</td>\n",
       "      <td>0.0</td>\n",
       "      <td>0.0</td>\n",
       "    </tr>\n",
       "    <tr>\n",
       "      <th>5390</th>\n",
       "      <td>0.0</td>\n",
       "      <td>0.0</td>\n",
       "      <td>0.0</td>\n",
       "      <td>0.0</td>\n",
       "      <td>1.0</td>\n",
       "    </tr>\n",
       "    <tr>\n",
       "      <th>860</th>\n",
       "      <td>0.0</td>\n",
       "      <td>0.0</td>\n",
       "      <td>0.0</td>\n",
       "      <td>0.0</td>\n",
       "      <td>1.0</td>\n",
       "    </tr>\n",
       "  </tbody>\n",
       "</table>\n",
       "<p>5173 rows × 5 columns</p>\n",
       "</div>\n",
       "      <button class=\"colab-df-convert\" onclick=\"convertToInteractive('df-05012291-83dd-4cc4-94e7-cff788bb2883')\"\n",
       "              title=\"Convert this dataframe to an interactive table.\"\n",
       "              style=\"display:none;\">\n",
       "        \n",
       "  <svg xmlns=\"http://www.w3.org/2000/svg\" height=\"24px\"viewBox=\"0 0 24 24\"\n",
       "       width=\"24px\">\n",
       "    <path d=\"M0 0h24v24H0V0z\" fill=\"none\"/>\n",
       "    <path d=\"M18.56 5.44l.94 2.06.94-2.06 2.06-.94-2.06-.94-.94-2.06-.94 2.06-2.06.94zm-11 1L8.5 8.5l.94-2.06 2.06-.94-2.06-.94L8.5 2.5l-.94 2.06-2.06.94zm10 10l.94 2.06.94-2.06 2.06-.94-2.06-.94-.94-2.06-.94 2.06-2.06.94z\"/><path d=\"M17.41 7.96l-1.37-1.37c-.4-.4-.92-.59-1.43-.59-.52 0-1.04.2-1.43.59L10.3 9.45l-7.72 7.72c-.78.78-.78 2.05 0 2.83L4 21.41c.39.39.9.59 1.41.59.51 0 1.02-.2 1.41-.59l7.78-7.78 2.81-2.81c.8-.78.8-2.07 0-2.86zM5.41 20L4 18.59l7.72-7.72 1.47 1.35L5.41 20z\"/>\n",
       "  </svg>\n",
       "      </button>\n",
       "      \n",
       "  <style>\n",
       "    .colab-df-container {\n",
       "      display:flex;\n",
       "      flex-wrap:wrap;\n",
       "      gap: 12px;\n",
       "    }\n",
       "\n",
       "    .colab-df-convert {\n",
       "      background-color: #E8F0FE;\n",
       "      border: none;\n",
       "      border-radius: 50%;\n",
       "      cursor: pointer;\n",
       "      display: none;\n",
       "      fill: #1967D2;\n",
       "      height: 32px;\n",
       "      padding: 0 0 0 0;\n",
       "      width: 32px;\n",
       "    }\n",
       "\n",
       "    .colab-df-convert:hover {\n",
       "      background-color: #E2EBFA;\n",
       "      box-shadow: 0px 1px 2px rgba(60, 64, 67, 0.3), 0px 1px 3px 1px rgba(60, 64, 67, 0.15);\n",
       "      fill: #174EA6;\n",
       "    }\n",
       "\n",
       "    [theme=dark] .colab-df-convert {\n",
       "      background-color: #3B4455;\n",
       "      fill: #D2E3FC;\n",
       "    }\n",
       "\n",
       "    [theme=dark] .colab-df-convert:hover {\n",
       "      background-color: #434B5C;\n",
       "      box-shadow: 0px 1px 3px 1px rgba(0, 0, 0, 0.15);\n",
       "      filter: drop-shadow(0px 1px 2px rgba(0, 0, 0, 0.3));\n",
       "      fill: #FFFFFF;\n",
       "    }\n",
       "  </style>\n",
       "\n",
       "      <script>\n",
       "        const buttonEl =\n",
       "          document.querySelector('#df-05012291-83dd-4cc4-94e7-cff788bb2883 button.colab-df-convert');\n",
       "        buttonEl.style.display =\n",
       "          google.colab.kernel.accessAllowed ? 'block' : 'none';\n",
       "\n",
       "        async function convertToInteractive(key) {\n",
       "          const element = document.querySelector('#df-05012291-83dd-4cc4-94e7-cff788bb2883');\n",
       "          const dataTable =\n",
       "            await google.colab.kernel.invokeFunction('convertToInteractive',\n",
       "                                                     [key], {});\n",
       "          if (!dataTable) return;\n",
       "\n",
       "          const docLinkHtml = 'Like what you see? Visit the ' +\n",
       "            '<a target=\"_blank\" href=https://colab.research.google.com/notebooks/data_table.ipynb>data table notebook</a>'\n",
       "            + ' to learn more about interactive tables.';\n",
       "          element.innerHTML = '';\n",
       "          dataTable['output_type'] = 'display_data';\n",
       "          await google.colab.output.renderOutput(dataTable, element);\n",
       "          const docLink = document.createElement('div');\n",
       "          docLink.innerHTML = docLinkHtml;\n",
       "          element.appendChild(docLink);\n",
       "        }\n",
       "      </script>\n",
       "    </div>\n",
       "  </div>\n",
       "  "
      ],
      "text/plain": [
       "      amused  angry  disgusted  neutral  sleepy\n",
       "4538     1.0    0.0        0.0      0.0     0.0\n",
       "3758     0.0    0.0        0.0      1.0     0.0\n",
       "2271     1.0    0.0        0.0      0.0     0.0\n",
       "947      0.0    0.0        0.0      0.0     1.0\n",
       "877      0.0    0.0        0.0      0.0     1.0\n",
       "...      ...    ...        ...      ...     ...\n",
       "3772     0.0    0.0        0.0      1.0     0.0\n",
       "5191     0.0    0.0        1.0      0.0     0.0\n",
       "5226     0.0    0.0        1.0      0.0     0.0\n",
       "5390     0.0    0.0        0.0      0.0     1.0\n",
       "860      0.0    0.0        0.0      0.0     1.0\n",
       "\n",
       "[5173 rows x 5 columns]"
      ]
     },
     "execution_count": 36,
     "metadata": {},
     "output_type": "execute_result"
    }
   ],
   "source": [
    "y_train\n"
   ]
  },
  {
   "cell_type": "markdown",
   "id": "6250a820",
   "metadata": {
    "id": "SyQQ4126IgFJ"
   },
   "source": [
    "Will now separated train data into own folder."
   ]
  },
  {
   "cell_type": "code",
   "execution_count": null,
   "id": "9661a431",
   "metadata": {
    "id": "eppIq4ArFIOk"
   },
   "outputs": [],
   "source": [
    "# replaced_list = []\n",
    "\n",
    "# def relocater(x, string_to_remove, replaced, replaced_list):\n",
    "\n",
    "#   #Will relocate every file to new train folder now that we have done our split\n",
    "  \n",
    "  \n",
    "  \n",
    "  \n",
    "#   newpath = x.replace(string_to_remove, replaced))\n",
    "#   replaced_list.append(new_path)\n",
    "  \n",
    "  \n",
    "#   img_path = 'img/spectrograms_no_aug_color'\n",
    "#   img_dir_list = os.listdir(img_path) \n",
    "#   img_dir_list.sort\n",
    "\n",
    "#   non_aug_path = []\n",
    "\n",
    "#   for dir in img_dir_list:\n",
    "#       if dir.startswith('spectrograms_no_aug_color'):\n",
    "#           files = os.listdir(img_path + dir)\n",
    "#           for file in files:\n",
    "#               if file.startswith('.'):\n",
    "#                   pass\n",
    "#               else:\n",
    "#                   non_aug_path.append(img_path + dir + '/' + file)\n",
    "#       else: \n",
    "#           pass\n",
    "    \n",
    "\n",
    "# train_paths = []\n",
    "# test_paths = []\n",
    "\n",
    "# img_path = 'img/spectrograms_no_aug_color'\n",
    "# files = os.listdir(img_path)\n",
    "# for file in files:\n",
    "#   if file.startswith('.'):\n",
    "#     pass\n",
    "\n",
    "#   elif X_train.str.contains(img_path + '/' + file).any():\n",
    "#       new_path = \"img/no_aug_train/\" + file\n",
    "#       os.rename(img_path + '/' + file, new_path)\n",
    "#       train_paths.append(new_path)\n",
    "\n",
    "#   elif X_test.str.contains(img_path + '/' + file).any():\n",
    "#       new_path_2 = \"img/no_aug_test/\" + file\n",
    "#       os.rename(img_path + '/' + file, new_path_2)\n",
    "#       test_paths.append(new_path_2)\n",
    "#   else:\n",
    "#     pass"
   ]
  },
  {
   "cell_type": "code",
   "execution_count": null,
   "id": "3c19ec89",
   "metadata": {
    "colab": {
     "base_uri": "https://localhost:8080/"
    },
    "id": "6U2pwLSxNlfu",
    "outputId": "83408d40-0d47-45fb-ac2b-5cf0f7d712f3"
   },
   "outputs": [
    {
     "data": {
      "text/plain": [
       "5168"
      ]
     },
     "execution_count": 50,
     "metadata": {},
     "output_type": "execute_result"
    }
   ],
   "source": [
    "len(train_paths)"
   ]
  },
  {
   "cell_type": "code",
   "execution_count": null,
   "id": "d237c632",
   "metadata": {
    "colab": {
     "base_uri": "https://localhost:8080/"
    },
    "id": "4CTgRboiFIQw",
    "outputId": "7542e928-e8fa-4cc8-ea08-7083134f1db0"
   },
   "outputs": [
    {
     "data": {
      "text/plain": [
       "1725"
      ]
     },
     "execution_count": 52,
     "metadata": {},
     "output_type": "execute_result"
    }
   ],
   "source": [
    "len(test_paths)\n",
    "\n",
    "\n"
   ]
  },
  {
   "cell_type": "code",
   "execution_count": null,
   "id": "8c85f15d",
   "metadata": {
    "id": "VXUY6aHdFITJ"
   },
   "outputs": [],
   "source": [
    "# img_path = 'img/spectrograms_no_aug_color'\n",
    "# files = os.listdir(img_path)\n",
    "# for file in files:\n",
    "#   if file.startswith('.'):\n",
    "#     pass\n",
    "\n",
    "#   elif X_train.str.contains(img_path + '/' + file).any():\n",
    "#       new_path = \"img/no_aug_train/\" + file\n",
    "#       os.rename(img_path + '/' + file, new_path)\n",
    "#       train_paths.append(new_path)\n",
    "\n",
    "#   elif X_test.str.contains(img_path + '/' + file).any():\n",
    "#       new_path_2 = \"img/no_aug_test/\" + file\n",
    "#       os.rename(img_path + '/' + file, new_path_2)\n",
    "#       test_paths.append(new_path_2)\n",
    "#   else:\n",
    "#     pass"
   ]
  },
  {
   "cell_type": "code",
   "execution_count": null,
   "id": "df6e748b",
   "metadata": {
    "colab": {
     "base_uri": "https://localhost:8080/",
     "height": 236
    },
    "id": "oql4BatyVvDS",
    "outputId": "609bafce-c431-490b-9fa2-94d311dfdca0"
   },
   "outputs": [
    {
     "ename": "OSError",
     "evalue": "ignored",
     "output_type": "error",
     "traceback": [
      "\u001b[0;31m---------------------------------------------------------------------------\u001b[0m",
      "\u001b[0;31mOSError\u001b[0m                                   Traceback (most recent call last)",
      "\u001b[0;32m<ipython-input-81-ce254a50136f>\u001b[0m in \u001b[0;36m<module>\u001b[0;34m()\u001b[0m\n\u001b[1;32m     21\u001b[0m   \u001b[0;32melif\u001b[0m \u001b[0;34m(\u001b[0m\u001b[0;34m\"sleepy\"\u001b[0m\u001b[0;34m)\u001b[0m \u001b[0;32min\u001b[0m \u001b[0mfile\u001b[0m\u001b[0;34m:\u001b[0m\u001b[0;34m\u001b[0m\u001b[0;34m\u001b[0m\u001b[0m\n\u001b[1;32m     22\u001b[0m       \u001b[0mnew_path\u001b[0m \u001b[0;34m=\u001b[0m \u001b[0;34m\"img/no_aug_train/sleepy/\"\u001b[0m \u001b[0;34m+\u001b[0m \u001b[0mfile\u001b[0m\u001b[0;34m\u001b[0m\u001b[0;34m\u001b[0m\u001b[0m\n\u001b[0;32m---> 23\u001b[0;31m       \u001b[0mos\u001b[0m\u001b[0;34m.\u001b[0m\u001b[0mrename\u001b[0m\u001b[0;34m(\u001b[0m\u001b[0mimg_path\u001b[0m \u001b[0;34m+\u001b[0m \u001b[0;34m'/'\u001b[0m \u001b[0;34m+\u001b[0m \u001b[0mfile\u001b[0m\u001b[0;34m,\u001b[0m \u001b[0mnew_path\u001b[0m\u001b[0;34m)\u001b[0m\u001b[0;34m\u001b[0m\u001b[0;34m\u001b[0m\u001b[0m\n\u001b[0m\u001b[1;32m     24\u001b[0m \u001b[0;34m\u001b[0m\u001b[0m\n\u001b[1;32m     25\u001b[0m   \u001b[0;32melse\u001b[0m\u001b[0;34m:\u001b[0m\u001b[0;34m\u001b[0m\u001b[0;34m\u001b[0m\u001b[0m\n",
      "\u001b[0;31mOSError\u001b[0m: [Errno 22] Invalid argument: 'img/no_aug_train/sleepy' -> 'img/no_aug_train/sleepy/sleepy'"
     ]
    }
   ],
   "source": [
    "\n",
    "\n",
    "# img_path = 'img/no_aug_train'\n",
    "# files = os.listdir(img_path)\n",
    "# for file in files:\n",
    "#   if file.startswith('.') or :\n",
    "#     pass\n",
    "\n",
    "#   elif (\"amused\") in file:\n",
    "#       new_path = \"img/no_aug_train/amused/\" + file\n",
    "#       os.rename(img_path + '/' + file, new_path)\n",
    "#   elif (\"angry\") in file:\n",
    "#       new_path = \"img/no_aug_train/angry/\" + file\n",
    "#       os.rename(img_path + '/' + file, new_path)\n",
    "#   elif (\"disgusted\") in file:\n",
    "#       new_path = \"img/no_aug_train/disgusted/\" + file\n",
    "#       os.rename(img_path + '/' + file, new_path)\n",
    "#   elif (\"neutral\") in file:\n",
    "#       new_path = \"img/no_aug_train/neutral/\" + file\n",
    "#       os.rename(img_path + '/' + file, new_path)\n",
    "#   elif (\"sleepy\") in file:\n",
    "#       new_path = \"img/no_aug_train/sleepy/\" + file\n",
    "#       os.rename(img_path + '/' + file, new_path)\n",
    "\n",
    "#   else:\n",
    "#     pass"
   ]
  },
  {
   "cell_type": "code",
   "execution_count": null,
   "id": "a6c178d8",
   "metadata": {
    "id": "4hxwGZwyVvBk"
   },
   "outputs": [],
   "source": [
    "\n",
    "\n",
    "# img_path = 'img/no_aug_test'\n",
    "# files = os.listdir(img_path)\n",
    "# for file in files:\n",
    "#   if file.startswith('.'):\n",
    "#     pass\n",
    "\n",
    "#   elif (\"amused\") in file:\n",
    "#       new_path = \"img/no_aug_train/amused\" + file\n",
    "#       os.rename(img_path + '/' + file, new_path)\n",
    "#   elif (\"angry\") in file:\n",
    "#       new_path = \"img/no_aug_train/angry\" + file\n",
    "#       os.rename(img_path + '/' + file, new_path)\n",
    "#   elif (\"disgusted\") in file:\n",
    "#       new_path = \"img/no_aug_train/disgusted\" + file\n",
    "#       os.rename(img_path + '/' + file, new_path)\n",
    "#   elif (\"neutral\") in file:\n",
    "#       new_path = \"img/no_aug_train/neutral\" + file\n",
    "#       os.rename(img_path + '/' + file, new_path)\n",
    "#   elif (\"sleepy\") in file:\n",
    "#       new_path = \"img/no_aug_train/sleepy\" + file\n",
    "#       os.rename(img_path + '/' + file, new_path)\n",
    "\n",
    "#   else:\n",
    "#     pass"
   ]
  },
  {
   "cell_type": "code",
   "execution_count": null,
   "id": "05f1693e",
   "metadata": {
    "id": "EoLSrN5lVu-w"
   },
   "outputs": [],
   "source": []
  },
  {
   "cell_type": "code",
   "execution_count": null,
   "id": "c561ba96",
   "metadata": {
    "id": "B6T2ROShVu8Q"
   },
   "outputs": [],
   "source": []
  },
  {
   "cell_type": "code",
   "execution_count": null,
   "id": "05c5338c",
   "metadata": {
    "id": "DJ6c9XJwVu5y"
   },
   "outputs": [],
   "source": []
  },
  {
   "cell_type": "code",
   "execution_count": null,
   "id": "93ee18d7",
   "metadata": {
    "id": "YbArTSYiVu4D"
   },
   "outputs": [],
   "source": []
  },
  {
   "cell_type": "code",
   "execution_count": null,
   "id": "192c9878",
   "metadata": {
    "id": "VDnsuHjpVu1Z"
   },
   "outputs": [],
   "source": []
  },
  {
   "cell_type": "markdown",
   "id": "56de3c72",
   "metadata": {
    "id": "R_g4pIFFcquo"
   },
   "source": [
    "# Had A weird error that made about 1/3 of my images disappear which will be fixed. If anything this smaller set will help the baseline run faster (Have to think of the positives at this Point)"
   ]
  },
  {
   "cell_type": "markdown",
   "id": "c31d5e14",
   "metadata": {
    "id": "CfIqgJeDpwxZ"
   },
   "source": [
    "# Baseline Model\n",
    "\n",
    "This took probably way too many attempts to run because Keras Hates me"
   ]
  },
  {
   "cell_type": "code",
   "execution_count": null,
   "id": "2c14f994",
   "metadata": {
    "colab": {
     "base_uri": "https://localhost:8080/"
    },
    "id": "bd5jXyfIQ4lG",
    "outputId": "a19ef710-60e1-47ec-b647-6181f783cbd3"
   },
   "outputs": [
    {
     "name": "stdout",
     "output_type": "stream",
     "text": [
      "Found 2725 images belonging to 5 classes.\n",
      "Found 300 images belonging to 5 classes.\n",
      "Found 669 images belonging to 5 classes.\n",
      "Model: \"sequential_12\"\n",
      "_________________________________________________________________\n",
      " Layer (type)                Output Shape              Param #   \n",
      "=================================================================\n",
      " conv2d_22 (Conv2D)          (None, 62, 62, 10)        280       \n",
      "                                                                 \n",
      " flatten_11 (Flatten)        (None, 38440)             0         \n",
      "                                                                 \n",
      " dense_21 (Dense)            (None, 5)                 192205    \n",
      "                                                                 \n",
      "=================================================================\n",
      "Total params: 192,485\n",
      "Trainable params: 192,485\n",
      "Non-trainable params: 0\n",
      "_________________________________________________________________\n",
      "86/86 [==============================] - 51s 578ms/step - loss: 1.7752 - accuracy: 0.3567 - val_loss: 1.1806 - val_accuracy: 0.5167\n"
     ]
    },
    {
     "data": {
      "text/plain": [
       "<keras.callbacks.History at 0x7f8268a2ebd0>"
      ]
     },
     "execution_count": 46,
     "metadata": {},
     "output_type": "execute_result"
    }
   ],
   "source": [
    "\n",
    "\n",
    "classes = [\t\"amused\", \"angry\", \"disgusted\", \"neutral\", \"sleepy\"]\n",
    "\n",
    "\n",
    "traingen = ImageDataGenerator(rescale=1/255, validation_split=0.10)\n",
    "testgen = ImageDataGenerator(rescale=1/255)\n",
    "\n",
    "\n",
    "train_data = traingen.flow_from_directory(\n",
    "    directory='img/no_aug_train/',\n",
    "    target_size=(64, 64),\n",
    "    classes = classes,\n",
    "    class_mode='categorical',\n",
    "    subset = \"training\",\n",
    "    seed = 42\n",
    ")\n",
    "val_data = traingen.flow_from_directory(\n",
    "    directory='img/no_aug_train/',\n",
    "    target_size=(64, 64),\n",
    "    classes = classes,\n",
    "    class_mode='categorical',\n",
    "    subset = \"validation\",\n",
    "    seed = 42\n",
    "    )    \n",
    "    \n",
    "    \n",
    "test_data = testgen.flow_from_directory(\n",
    "    directory='img/no_aug_test',\n",
    "    target_size=(64, 64),\n",
    "    classes = classes,\n",
    "    class_mode='categorical',\n",
    "    seed = 42\n",
    ")\n",
    "\n",
    "\n",
    "baseline = tf.keras.models.Sequential()\n",
    "baseline.add(tf.keras.layers.Conv2D(filters=10, kernel_size=3, activation='relu', input_shape=[64, 64, 3]))\n",
    "baseline.add(tf.keras.layers.Flatten())\n",
    "baseline.add(tf.keras.layers.Dense(5, activation='softmax'))\n",
    "\n",
    "baseline.compile(optimizer=\"adam\", loss=\"categorical_crossentropy\", metrics=[\"accuracy\"])\n",
    "baseline.summary()\n",
    "baseline.fit(x=train_data, validation_data=val_data, epochs=1)\n",
    "\n"
   ]
  },
  {
   "cell_type": "markdown",
   "id": "9b9f5f17",
   "metadata": {
    "id": "4MyzGa6SsXAw"
   },
   "source": [
    "# First Basic Model\n",
    "\n",
    "We will add an additional Conv2d Layer and a Max Pooling layer as well as more filters to the originsl Conv2d Layer"
   ]
  },
  {
   "cell_type": "code",
   "execution_count": 47,
   "id": "22398147",
   "metadata": {
    "colab": {
     "base_uri": "https://localhost:8080/"
    },
    "id": "JbQHZ3MhsWvg",
    "outputId": "44a4435b-0057-4b42-8832-eb1447d9ab4a"
   },
   "outputs": [
    {
     "name": "stdout",
     "output_type": "stream",
     "text": [
      "Found 2725 images belonging to 5 classes.\n",
      "Found 300 images belonging to 5 classes.\n",
      "Found 669 images belonging to 5 classes.\n",
      "Model: \"sequential_13\"\n",
      "_________________________________________________________________\n",
      " Layer (type)                Output Shape              Param #   \n",
      "=================================================================\n",
      " conv2d_23 (Conv2D)          (None, 62, 62, 70)        1960      \n",
      "                                                                 \n",
      " max_pooling2d_12 (MaxPoolin  (None, 31, 31, 70)       0         \n",
      " g2D)                                                            \n",
      "                                                                 \n",
      " conv2d_24 (Conv2D)          (None, 29, 29, 35)        22085     \n",
      "                                                                 \n",
      " flatten_12 (Flatten)        (None, 29435)             0         \n",
      "                                                                 \n",
      " dense_22 (Dense)            (None, 5)                 147180    \n",
      "                                                                 \n",
      "=================================================================\n",
      "Total params: 171,225\n",
      "Trainable params: 171,225\n",
      "Non-trainable params: 0\n",
      "_________________________________________________________________\n",
      "86/86 [==============================] - 65s 745ms/step - loss: 1.4899 - accuracy: 0.3908 - val_loss: 1.3634 - val_accuracy: 0.3400\n"
     ]
    },
    {
     "data": {
      "text/plain": [
       "<keras.callbacks.History at 0x7f827cd10ed0>"
      ]
     },
     "execution_count": 47,
     "metadata": {},
     "output_type": "execute_result"
    }
   ],
   "source": [
    "classes = [\t\"amused\", \"angry\", \"disgusted\", \"neutral\", \"sleepy\"]\n",
    "\n",
    "\n",
    "traingen = ImageDataGenerator(rescale=1/255, validation_split=0.10)\n",
    "testgen = ImageDataGenerator(rescale=1/255)\n",
    "\n",
    "\n",
    "train_data = traingen.flow_from_directory(\n",
    "    directory='img/no_aug_train/',\n",
    "    target_size=(64, 64),\n",
    "    classes = classes,\n",
    "    class_mode='categorical',\n",
    "    subset = \"training\",\n",
    "    seed = 42\n",
    ")\n",
    "val_data = traingen.flow_from_directory(\n",
    "    directory='img/no_aug_train/',\n",
    "    target_size=(64, 64),\n",
    "    classes = classes,\n",
    "    class_mode='categorical',\n",
    "    subset = \"validation\",\n",
    "    seed = 42\n",
    "    )    \n",
    "    \n",
    "    \n",
    "test_data = testgen.flow_from_directory(\n",
    "    directory='img/no_aug_test',\n",
    "    target_size=(64, 64),\n",
    "    classes = classes,\n",
    "    class_mode='categorical',\n",
    "    seed = 42\n",
    ")\n",
    "\n",
    "\n",
    "model_1 = tf.keras.models.Sequential()\n",
    "model_1.add(tf.keras.layers.Conv2D(filters=70, kernel_size=3, activation='relu', input_shape=[64, 64, 3]))\n",
    "model_1.add(tf.keras.layers.MaxPool2D(pool_size=2, strides=2))\n",
    "model_1.add(tf.keras.layers.Conv2D(filters=35, kernel_size=3, activation='relu'))\n",
    "model_1.add(tf.keras.layers.Flatten())\n",
    "model_1.add(tf.keras.layers.Dense(5, activation='softmax'))\n",
    "\n",
    "\n",
    "model_1.compile(optimizer=\"adam\", loss=\"categorical_crossentropy\", metrics=[\"accuracy\"])\n",
    "model_1.summary()\n",
    "model_1.fit(x=train_data, validation_data=val_data, epochs=1)\n",
    "\n"
   ]
  },
  {
   "cell_type": "markdown",
   "id": "e14a1ff5",
   "metadata": {
    "id": "pbs7QdWKtsWo"
   },
   "source": [
    "So we have had some improvement but will need to clean up the code, images to add more variation and then add more layers!"
   ]
  },
  {
   "cell_type": "code",
   "execution_count": null,
   "id": "9506774e",
   "metadata": {
    "id": "mEWpfclzQ4VH"
   },
   "outputs": [],
   "source": []
  },
  {
   "cell_type": "code",
   "execution_count": null,
   "id": "128989a8",
   "metadata": {
    "id": "c0cf48a7"
   },
   "outputs": [],
   "source": []
  },
  {
   "cell_type": "markdown",
   "id": "3dccfc6e",
   "metadata": {
    "id": "b03f7080"
   },
   "source": [
    "# Data Prep Pipeline\n",
    "\n",
    "\n",
    "## What happens when we do encounter silence??"
   ]
  },
  {
   "cell_type": "markdown",
   "id": "7bb61bf8",
   "metadata": {
    "id": "9ef1dfb0"
   },
   "source": [
    "## [RESAMPLE AT CONSTANT RATE??: ](http://opensoundscape.org/en/latest/tutorials/audio_and_spectrogram.html#:~:text=To%20save%20the%20created%20spectrogram,Library%20(PIL)%20Image%20object.&text=Save%20the%20PIL%20Image%20using,want%20to%20save%20the%20image.)"
   ]
  },
  {
   "cell_type": "markdown",
   "id": "434432b1",
   "metadata": {
    "id": "1195752a"
   },
   "source": [
    "Go through all files in directory and add to df if name is in original path in new column. If name has emotion can strip it. Can augment sound files and re-save sprectrograms of augmented. (Combine with originals for larger dataset? or just use noisier data ?)"
   ]
  },
  {
   "cell_type": "markdown",
   "id": "2f36e1e6",
   "metadata": {
    "id": "872c1129"
   },
   "source": [
    "Next we need to augment our data in order to prevent over-fitting and make our model more generalizable.\n",
    "We will do this by injecting noise, slowing the sound clips, speeding up the sound clips, and "
   ]
  },
  {
   "cell_type": "markdown",
   "id": "0edb21d4",
   "metadata": {
    "id": "f3a68ee9"
   },
   "source": [
    "We will then extract features, trim the data, extract features without augmentation, add noise a and vertically stack (essentially stacking an array and turning into a matrix which we will then convert to our spectrogram, then add stretch vert stack, and pitch v stack )"
   ]
  },
  {
   "cell_type": "code",
   "execution_count": null,
   "id": "76c4c29c",
   "metadata": {
    "id": "e5eea162"
   },
   "outputs": [],
   "source": [
    "def noise(data):\n",
    "    amplitude = 0.05*np.random.uniform()*np.amax(data)\n",
    "    data = data + amplitude*np.random.normal(size=data.shape[0])\n",
    "    return data\n",
    "\n",
    "def speed_random(data):\n",
    "    random_rate = round(random.uniform(0.5, 1.5), 2)\n",
    "    return librosa.effects.time_stretch(data, random_rate)\n",
    "\n",
    "\n",
    "def pitch(data, sampling_rate):\n",
    "    random_pitch = round(random.uniform(.5, 3), 1)\n",
    "    return librosa.effects.pitch_shift(data, sampling_rate, random_pitch)\n",
    "\n",
    "def silence_trimmer(data_sampling_rate):\n",
    "    return\n"
   ]
  },
  {
   "cell_type": "markdown",
   "id": "9ab9c0ef",
   "metadata": {
    "id": "-blFBY7rVl7h"
   },
   "source": [
    "### NEED SILENCE TRIMMER??"
   ]
  },
  {
   "cell_type": "code",
   "execution_count": null,
   "id": "5e444c97",
   "metadata": {
    "id": "f0835eda"
   },
   "outputs": [],
   "source": [
    "file_name='EmoV-DB_sorted/sam/Amused/sam_amused_00003.wav'\n",
    "\n",
    "\n",
    "\n",
    "audio_data, sampling_rate = librosa.load(file_name)\n",
    "# ipd.Audio(audio_data, rate=sampling_rate) #Base Audio\n",
    "\n",
    "\n",
    "x = noise(audio_data)\n",
    "plt.figure(figsize=(14,4))\n",
    "librosa.display.waveshow(y=x, sr=sampling_rate)\n",
    "ipd.Audio(x, rate=sampling_rate)"
   ]
  },
  {
   "cell_type": "code",
   "execution_count": null,
   "id": "15e13876",
   "metadata": {
    "id": "b01c3d39"
   },
   "outputs": [],
   "source": [
    "file_name='EmoV-DB_sorted/sam/Amused/sam_amused_00003.wav'\n",
    "\n",
    "\n",
    "\n",
    "audio_data, sampling_rate = librosa.load(file_name)\n",
    "# ipd.Audio(audio_data, rate=sampling_rate)\n",
    "x = speed_random(audio_data)\n",
    "plt.figure(figsize=(14,4))\n",
    "librosa.display.waveshow(y=x, sr=sampling_rate)\n",
    "ipd.Audio(x, rate=sampling_rate)"
   ]
  },
  {
   "cell_type": "code",
   "execution_count": null,
   "id": "47450169",
   "metadata": {
    "id": "7acaf9f5"
   },
   "outputs": [],
   "source": [
    "file_name='EmoV-DB_sorted/sam/Amused/sam_amused_00003.wav'\n",
    "\n",
    "\n",
    "\n",
    "audio_data, sampling_rate = librosa.load(file_name)\n",
    "# ipd.Audio(audio_data, rate=sampling_rate)\n",
    "x = pitch(audio_data, sampling_rate)\n",
    "plt.figure(figsize=(14,4))\n",
    "librosa.display.waveshow(y=x, sr=sampling_rate)\n",
    "ipd.Audio(x, rate=sampling_rate)"
   ]
  },
  {
   "cell_type": "markdown",
   "id": "213a89a3",
   "metadata": {
    "id": "6917e312"
   },
   "source": []
  },
  {
   "cell_type": "code",
   "execution_count": null,
   "id": "bd4ae02c",
   "metadata": {
    "id": "0c3e7578"
   },
   "outputs": [],
   "source": []
  },
  {
   "cell_type": "markdown",
   "id": "6db1ff7e",
   "metadata": {
    "id": "f40f7285"
   },
   "source": [
    "# Next will fix data disappearance! possibly augment sound data/trim silence"
   ]
  },
  {
   "cell_type": "markdown",
   "id": "31995fa6",
   "metadata": {},
   "source": [
    "Data missing was from faulty folder function. Will again do train/test split COPYING images into separate train and test folders this time. Will then manually move files into emotion folders and reupload(?)"
   ]
  },
  {
   "cell_type": "code",
   "execution_count": null,
   "id": "8186a2d1",
   "metadata": {},
   "outputs": [],
   "source": []
  },
  {
   "cell_type": "markdown",
   "id": "8f0ce555",
   "metadata": {
    "id": "96ae1edd"
   },
   "source": []
  },
  {
   "cell_type": "code",
   "execution_count": null,
   "id": "0a184831",
   "metadata": {
    "id": "31b40930"
   },
   "outputs": [],
   "source": []
  },
  {
   "cell_type": "code",
   "execution_count": null,
   "id": "0111b2e5",
   "metadata": {},
   "outputs": [],
   "source": []
  },
  {
   "cell_type": "code",
   "execution_count": null,
   "id": "f4bec9da",
   "metadata": {},
   "outputs": [],
   "source": []
  },
  {
   "cell_type": "code",
   "execution_count": null,
   "id": "877520ce",
   "metadata": {},
   "outputs": [],
   "source": []
  },
  {
   "cell_type": "code",
   "execution_count": null,
   "id": "38c6c212",
   "metadata": {},
   "outputs": [],
   "source": []
  },
  {
   "cell_type": "code",
   "execution_count": null,
   "id": "cf01bce8",
   "metadata": {},
   "outputs": [],
   "source": []
  },
  {
   "cell_type": "code",
   "execution_count": null,
   "id": "59ec40b1",
   "metadata": {},
   "outputs": [],
   "source": []
  },
  {
   "cell_type": "code",
   "execution_count": null,
   "id": "0247e31c",
   "metadata": {},
   "outputs": [],
   "source": []
  },
  {
   "cell_type": "code",
   "execution_count": null,
   "id": "16912bdf",
   "metadata": {},
   "outputs": [],
   "source": []
  },
  {
   "cell_type": "code",
   "execution_count": null,
   "id": "7c7182c7",
   "metadata": {},
   "outputs": [],
   "source": []
  },
  {
   "cell_type": "code",
   "execution_count": null,
   "id": "9c0d8a8d",
   "metadata": {},
   "outputs": [],
   "source": []
  },
  {
   "cell_type": "code",
   "execution_count": null,
   "id": "9e29eaa2",
   "metadata": {},
   "outputs": [],
   "source": []
  },
  {
   "cell_type": "code",
   "execution_count": null,
   "id": "91461068",
   "metadata": {},
   "outputs": [],
   "source": []
  },
  {
   "cell_type": "code",
   "execution_count": null,
   "id": "3023f15b",
   "metadata": {},
   "outputs": [],
   "source": []
  },
  {
   "cell_type": "code",
   "execution_count": null,
   "id": "7d8356f2",
   "metadata": {},
   "outputs": [],
   "source": []
  },
  {
   "cell_type": "code",
   "execution_count": null,
   "id": "30bd147d",
   "metadata": {
    "id": "b25a846f"
   },
   "outputs": [],
   "source": []
  },
  {
   "cell_type": "code",
   "execution_count": null,
   "id": "fe51f7cb",
   "metadata": {
    "id": "94713ebe"
   },
   "outputs": [],
   "source": []
  },
  {
   "cell_type": "code",
   "execution_count": null,
   "id": "c1c7ce50",
   "metadata": {
    "id": "4f575428"
   },
   "outputs": [],
   "source": []
  },
  {
   "cell_type": "code",
   "execution_count": null,
   "id": "a8f2d972",
   "metadata": {
    "id": "a439aca1"
   },
   "outputs": [],
   "source": []
  },
  {
   "cell_type": "code",
   "execution_count": null,
   "id": "54e625a4",
   "metadata": {
    "id": "e786c92b"
   },
   "outputs": [],
   "source": []
  },
  {
   "cell_type": "code",
   "execution_count": null,
   "id": "a997c1a0",
   "metadata": {
    "id": "5f8e6755"
   },
   "outputs": [],
   "source": []
  },
  {
   "cell_type": "code",
   "execution_count": null,
   "id": "28cc53e8",
   "metadata": {
    "id": "9163c41b"
   },
   "outputs": [],
   "source": []
  },
  {
   "cell_type": "code",
   "execution_count": null,
   "id": "4e80805d",
   "metadata": {
    "id": "0ad5f2f7"
   },
   "outputs": [],
   "source": []
  },
  {
   "cell_type": "code",
   "execution_count": null,
   "id": "742148f9",
   "metadata": {
    "id": "baffe500"
   },
   "outputs": [],
   "source": []
  }
 ],
 "metadata": {
  "colab": {
   "collapsed_sections": [
    "61d81f0b",
    "bf91de07"
   ],
   "name": "EDA_notebook.ipynb",
   "provenance": []
  },
  "kernelspec": {
   "display_name": "Python 3",
   "language": "python",
   "name": "python3"
  },
  "language_info": {
   "codemirror_mode": {
    "name": "ipython",
    "version": 3
   },
   "file_extension": ".py",
   "mimetype": "text/x-python",
   "name": "python",
   "nbconvert_exporter": "python",
   "pygments_lexer": "ipython3",
   "version": "3.8.5"
  }
 },
 "nbformat": 4,
 "nbformat_minor": 5
}
