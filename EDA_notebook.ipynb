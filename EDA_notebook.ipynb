{
 "cells": [
  {
   "cell_type": "code",
   "execution_count": 1,
   "id": "c09bf3cb",
   "metadata": {},
   "outputs": [],
   "source": [
    "import pandas as pd\n",
    "import numpy as np\n",
    "import seaborn as sns\n",
    "import matplotlib.pyplot as plt\n",
    "from sklearn.model_selection import train_test_split\n",
    "from sklearn.metrics import confusion_matrix, classification_report\n",
    "import os\n",
    "import random\n",
    "# import sys\n",
    "\n",
    "# librosa is a Python library for analyzing audio and music. \n",
    "import librosa\n",
    "import librosa.display\n",
    "# import librosa.display.waveplot # seems to not exist anymore\n",
    "\n",
    "\n",
    "# from sklearn.preprocessing import StandardScaler, OneHotEncoder\n",
    "\n",
    "# to play the audio files\n",
    "import IPython.display as ipd\n",
    "\n"
   ]
  },
  {
   "cell_type": "code",
   "execution_count": 2,
   "id": "d986d150",
   "metadata": {},
   "outputs": [
    {
     "data": {
      "text/plain": [
       "'#Paths listed out\\n\\n\\n#Bea - Female\\n\"/EmoV-DB_sorted/bea/Amused\"\\n\"/EmoV-DB_sorted/bea/Angry\"\\n\"/EmoV-DB_sorted/bea/Disgusted\"\\n\"/EmoV-DB_sorted/bea/Neutral\"\\n\"/EmoV-DB_sorted/bea/Sleepy\"\\n\\n#Jenie - Female\\n\"/EmoV-DB_sorted/jenie/Amused\"\\n\"/EmoV-DB_sorted/jenie/Angry\"\\n\"/EmoV-DB_sorted/jenie/Disgusted\"\\n\"/EmoV-DB_sorted/jenie/Neutral\"\\n\"/EmoV-DB_sorted/jenie/Sleepy\"\\n\\n\\n#Josh - Male\\n\"/EmoV-DB_sorted/josh/Amused\"\\n\"/EmoV-DB_sorted/josh/Neutral\"\\n\"/EmoV-DB_sorted/josh/Sleepy\"\\n\\n\\n#Sam - Male\\n\"/EmoV-DB_sorted/sam/Amused\"\\n\"/EmoV-DB_sorted/sam/Angry\"\\n\"/EmoV-DB_sorted/sam/Disgusted\"\\n\"/EmoV-DB_sorted/sam/Neutral\"\\n\"/EmoV-DB_sorted/sam/Sleepy\"\\n'"
      ]
     },
     "execution_count": 2,
     "metadata": {},
     "output_type": "execute_result"
    }
   ],
   "source": [
    "\"\"\"#Paths listed out\n",
    "\n",
    "\n",
    "#Bea - Female\n",
    "\"/EmoV-DB_sorted/bea/Amused\"\n",
    "\"/EmoV-DB_sorted/bea/Angry\"\n",
    "\"/EmoV-DB_sorted/bea/Disgusted\"\n",
    "\"/EmoV-DB_sorted/bea/Neutral\"\n",
    "\"/EmoV-DB_sorted/bea/Sleepy\"\n",
    "\n",
    "#Jenie - Female\n",
    "\"/EmoV-DB_sorted/jenie/Amused\"\n",
    "\"/EmoV-DB_sorted/jenie/Angry\"\n",
    "\"/EmoV-DB_sorted/jenie/Disgusted\"\n",
    "\"/EmoV-DB_sorted/jenie/Neutral\"\n",
    "\"/EmoV-DB_sorted/jenie/Sleepy\"\n",
    "\n",
    "\n",
    "#Josh - Male\n",
    "\"/EmoV-DB_sorted/josh/Amused\"\n",
    "\"/EmoV-DB_sorted/josh/Neutral\"\n",
    "\"/EmoV-DB_sorted/josh/Sleepy\"\n",
    "\n",
    "\n",
    "#Sam - Male\n",
    "\"/EmoV-DB_sorted/sam/Amused\"\n",
    "\"/EmoV-DB_sorted/sam/Angry\"\n",
    "\"/EmoV-DB_sorted/sam/Disgusted\"\n",
    "\"/EmoV-DB_sorted/sam/Neutral\"\n",
    "\"/EmoV-DB_sorted/sam/Sleepy\"\n",
    "\"\"\"\n",
    "\n",
    "# Don't delete! can be used for easy random path for selection\n",
    "\n",
    "# rand_dir = \n",
    "\n",
    "\n",
    "# random_file = random.choice(os.listdir(rand_dir))\n",
    "\n",
    "\n"
   ]
  },
  {
   "cell_type": "code",
   "execution_count": 3,
   "id": "00541aaa",
   "metadata": {},
   "outputs": [],
   "source": [
    "Emo_path = 'EmoV-DB_sorted/'\n",
    "emo_actor_list = os.listdir(Emo_path) \n",
    "emo_actor_list.sort\n",
    "\n",
    "file_actor = []\n",
    "file_emotion = []\n",
    "file_path = []\n",
    "\n",
    "for dir in emo_actor_list:\n",
    "    if dir.startswith('.'):\n",
    "        pass\n",
    "    else:\n",
    "        actor = os.listdir(Emo_path + dir) \n",
    "    \n",
    "        for emotions in actor:\n",
    "            if emotions.startswith('.'):\n",
    "                pass\n",
    "            else:\n",
    "                emotion = os.listdir(Emo_path + dir + '/' + emotions) \n",
    "                for file in emotion:\n",
    "                    file_emotion.append(emotions.lower())\n",
    "                    file_path.append(Emo_path + dir + '/' + emotions  + '/' + file)\n",
    "                    file_actor.append(dir)\n",
    "     "
   ]
  },
  {
   "cell_type": "code",
   "execution_count": 4,
   "id": "9f5c75d8",
   "metadata": {},
   "outputs": [
    {
     "name": "stdout",
     "output_type": "stream",
     "text": [
      "Number oaf file paths: 6893,      Number of emotions listed: 6893,      Number of actors listed: 6893\n"
     ]
    }
   ],
   "source": [
    "print(f'Number oaf file paths: {len(file_path)},\\\n",
    "      Number of emotions listed: {len(file_emotion)},\\\n",
    "      Number of actors listed: {len(file_actor)}')"
   ]
  },
  {
   "cell_type": "code",
   "execution_count": 5,
   "id": "056467fd",
   "metadata": {},
   "outputs": [
    {
     "data": {
      "text/html": [
       "<div>\n",
       "<style scoped>\n",
       "    .dataframe tbody tr th:only-of-type {\n",
       "        vertical-align: middle;\n",
       "    }\n",
       "\n",
       "    .dataframe tbody tr th {\n",
       "        vertical-align: top;\n",
       "    }\n",
       "\n",
       "    .dataframe thead th {\n",
       "        text-align: right;\n",
       "    }\n",
       "</style>\n",
       "<table border=\"1\" class=\"dataframe\">\n",
       "  <thead>\n",
       "    <tr style=\"text-align: right;\">\n",
       "      <th></th>\n",
       "      <th>file_path</th>\n",
       "      <th>actor</th>\n",
       "      <th>sex</th>\n",
       "      <th>emotion</th>\n",
       "    </tr>\n",
       "  </thead>\n",
       "  <tbody>\n",
       "    <tr>\n",
       "      <th>0</th>\n",
       "      <td>EmoV-DB_sorted/sam/Amused/amused_1-28_0022.wav</td>\n",
       "      <td>sam</td>\n",
       "      <td>male</td>\n",
       "      <td>amused</td>\n",
       "    </tr>\n",
       "    <tr>\n",
       "      <th>1</th>\n",
       "      <td>EmoV-DB_sorted/sam/Amused/amused_29-56_0039.wav</td>\n",
       "      <td>sam</td>\n",
       "      <td>male</td>\n",
       "      <td>amused</td>\n",
       "    </tr>\n",
       "    <tr>\n",
       "      <th>2</th>\n",
       "      <td>EmoV-DB_sorted/sam/Amused/amused_57-84_0066.wav</td>\n",
       "      <td>sam</td>\n",
       "      <td>male</td>\n",
       "      <td>amused</td>\n",
       "    </tr>\n",
       "    <tr>\n",
       "      <th>3</th>\n",
       "      <td>EmoV-DB_sorted/sam/Amused/amused_57-84_0072.wav</td>\n",
       "      <td>sam</td>\n",
       "      <td>male</td>\n",
       "      <td>amused</td>\n",
       "    </tr>\n",
       "    <tr>\n",
       "      <th>4</th>\n",
       "      <td>EmoV-DB_sorted/sam/Amused/amused_281-308_0287.wav</td>\n",
       "      <td>sam</td>\n",
       "      <td>male</td>\n",
       "      <td>amused</td>\n",
       "    </tr>\n",
       "    <tr>\n",
       "      <th>...</th>\n",
       "      <td>...</td>\n",
       "      <td>...</td>\n",
       "      <td>...</td>\n",
       "      <td>...</td>\n",
       "    </tr>\n",
       "    <tr>\n",
       "      <th>6888</th>\n",
       "      <td>EmoV-DB_sorted/josh/Sleepy/sleepiness_225-252_...</td>\n",
       "      <td>josh</td>\n",
       "      <td>male</td>\n",
       "      <td>sleepy</td>\n",
       "    </tr>\n",
       "    <tr>\n",
       "      <th>6889</th>\n",
       "      <td>EmoV-DB_sorted/josh/Sleepy/sleepiness_57-84_00...</td>\n",
       "      <td>josh</td>\n",
       "      <td>male</td>\n",
       "      <td>sleepy</td>\n",
       "    </tr>\n",
       "    <tr>\n",
       "      <th>6890</th>\n",
       "      <td>EmoV-DB_sorted/josh/Sleepy/sleepiness_113_140_...</td>\n",
       "      <td>josh</td>\n",
       "      <td>male</td>\n",
       "      <td>sleepy</td>\n",
       "    </tr>\n",
       "    <tr>\n",
       "      <th>6891</th>\n",
       "      <td>EmoV-DB_sorted/josh/Sleepy/sleepiness_197-224_...</td>\n",
       "      <td>josh</td>\n",
       "      <td>male</td>\n",
       "      <td>sleepy</td>\n",
       "    </tr>\n",
       "    <tr>\n",
       "      <th>6892</th>\n",
       "      <td>EmoV-DB_sorted/josh/Sleepy/sleepiness_197-224_...</td>\n",
       "      <td>josh</td>\n",
       "      <td>male</td>\n",
       "      <td>sleepy</td>\n",
       "    </tr>\n",
       "  </tbody>\n",
       "</table>\n",
       "<p>6893 rows × 4 columns</p>\n",
       "</div>"
      ],
      "text/plain": [
       "                                              file_path actor   sex emotion\n",
       "0        EmoV-DB_sorted/sam/Amused/amused_1-28_0022.wav   sam  male  amused\n",
       "1       EmoV-DB_sorted/sam/Amused/amused_29-56_0039.wav   sam  male  amused\n",
       "2       EmoV-DB_sorted/sam/Amused/amused_57-84_0066.wav   sam  male  amused\n",
       "3       EmoV-DB_sorted/sam/Amused/amused_57-84_0072.wav   sam  male  amused\n",
       "4     EmoV-DB_sorted/sam/Amused/amused_281-308_0287.wav   sam  male  amused\n",
       "...                                                 ...   ...   ...     ...\n",
       "6888  EmoV-DB_sorted/josh/Sleepy/sleepiness_225-252_...  josh  male  sleepy\n",
       "6889  EmoV-DB_sorted/josh/Sleepy/sleepiness_57-84_00...  josh  male  sleepy\n",
       "6890  EmoV-DB_sorted/josh/Sleepy/sleepiness_113_140_...  josh  male  sleepy\n",
       "6891  EmoV-DB_sorted/josh/Sleepy/sleepiness_197-224_...  josh  male  sleepy\n",
       "6892  EmoV-DB_sorted/josh/Sleepy/sleepiness_197-224_...  josh  male  sleepy\n",
       "\n",
       "[6893 rows x 4 columns]"
      ]
     },
     "execution_count": 5,
     "metadata": {},
     "output_type": "execute_result"
    }
   ],
   "source": [
    "df = pd.DataFrame({\"file_path\" : file_path, \"actor\" : file_actor})\n",
    "df[\"sex\"] = df[\"actor\"].apply(lambda x: \"female\" if x in [\"jenie\", \"bea\"] else 'male')\n",
    "df[\"emotion\"] = (file_emotion)\n",
    "\n",
    "df"
   ]
  },
  {
   "cell_type": "markdown",
   "id": "d79dc314",
   "metadata": {},
   "source": [
    "### Creating a Larger Dataset with Randomized Filtering (Maybe? If I have Time )\n",
    "# Ask Scrum Group!!!\n"
   ]
  },
  {
   "cell_type": "code",
   "execution_count": 6,
   "id": "5020d654",
   "metadata": {},
   "outputs": [],
   "source": [
    "# Will come back to this for a more polished final product\n",
    "\n",
    "# 1 will add noise to many  randomized files (in random amounts but not enough to drown out speech)\n",
    "# 2 Randomly pitch up/ down data by a variable percentage (again not enough to make incomprehensable)\n",
    "# 3 Speed up/slow down (while maintaining pitch) by up to 50%\n",
    "# Can do a few passthroughs of dataset \n",
    "# Randomly assign 1,2, 3 or a combination to a file "
   ]
  },
  {
   "cell_type": "code",
   "execution_count": null,
   "id": "bd7dfbfb",
   "metadata": {},
   "outputs": [],
   "source": []
  },
  {
   "cell_type": "code",
   "execution_count": null,
   "id": "7295120d",
   "metadata": {},
   "outputs": [],
   "source": []
  },
  {
   "cell_type": "code",
   "execution_count": null,
   "id": "674e2097",
   "metadata": {},
   "outputs": [],
   "source": []
  },
  {
   "cell_type": "code",
   "execution_count": null,
   "id": "0e36b2fb",
   "metadata": {},
   "outputs": [],
   "source": []
  },
  {
   "cell_type": "code",
   "execution_count": null,
   "id": "5f5ca279",
   "metadata": {},
   "outputs": [],
   "source": []
  },
  {
   "cell_type": "code",
   "execution_count": 7,
   "id": "1d5ff173",
   "metadata": {},
   "outputs": [],
   "source": [
    "# Should I then  go through data and make it noisier/pitch up and down/ speed up and down to add \n",
    "# extra data to help with training?"
   ]
  },
  {
   "cell_type": "code",
   "execution_count": 40,
   "id": "8c52ee15",
   "metadata": {},
   "outputs": [
    {
     "data": {
      "image/png": "[encoded data removed]",
      "text/plain": [
       "<Figure size 720x432 with 1 Axes>"
      ]
     },
     "metadata": {
      "needs_background": "light"
     },
     "output_type": "display_data"
    }
   ],
   "source": [
    "file_name='EmoV-DB_sorted/sam/Amused/amused_1-28_0002.wav'\n",
    "\n",
    "\n",
    "\n",
    "audio_data, sampling_rate = librosa.load(file_name)\n",
    "fig, ax = plt.subplots(figsize=(10,6))\n",
    "librosa.display.waveshow(audio_data,sr=sampling_rate)\n",
    "# ipd.Audio(file_name)\n",
    "ax.set(title='Waveform Plot', ylabel='Amplitude')\n",
    "ax.label_outer();\n",
    "# plt.savefig('img/waveforms/sam_amused_1-28_0002')\n",
    "\n",
    "\n",
    "\n"
   ]
  },
  {
   "cell_type": "code",
   "execution_count": 9,
   "id": "79ff7c98",
   "metadata": {},
   "outputs": [],
   "source": [
    "\n",
    "\n",
    "\n",
    "#Once df completed \n",
    "        #go through each file path and for every WAV file make into spectogram for analysis??\n",
    "        #go through each file path and for every WAV file create time series and a waveform graph?? \n",
    "        #maybe it could work by just analyzing the waveform image itself\n",
    "            #break into one second chunks? anything that doesnt go above a background noise sound level \n",
    "                      #is ignored and last state detected is held as current emotion\n",
    "        \n",
    "        \n",
    "        \n"
   ]
  },
  {
   "cell_type": "code",
   "execution_count": null,
   "id": "0ce2e218",
   "metadata": {},
   "outputs": [],
   "source": []
  },
  {
   "cell_type": "code",
   "execution_count": null,
   "id": "84c3f1fe",
   "metadata": {},
   "outputs": [],
   "source": []
  },
  {
   "cell_type": "code",
   "execution_count": null,
   "id": "be04a9f8",
   "metadata": {},
   "outputs": [],
   "source": []
  },
  {
   "cell_type": "code",
   "execution_count": null,
   "id": "df42b2ef",
   "metadata": {},
   "outputs": [],
   "source": []
  },
  {
   "cell_type": "code",
   "execution_count": null,
   "id": "1b3c7f52",
   "metadata": {},
   "outputs": [],
   "source": []
  },
  {
   "cell_type": "code",
   "execution_count": null,
   "id": "89ea77e3",
   "metadata": {},
   "outputs": [],
   "source": []
  },
  {
   "cell_type": "code",
   "execution_count": null,
   "id": "94607a93",
   "metadata": {},
   "outputs": [],
   "source": []
  },
  {
   "cell_type": "markdown",
   "id": "17abe115",
   "metadata": {},
   "source": [
    "### Low Hanging Fruit Visuals"
   ]
  },
  {
   "cell_type": "code",
   "execution_count": 10,
   "id": "b9acd6c1",
   "metadata": {},
   "outputs": [],
   "source": [
    "#once We have all data and its been combined with artifical data do some low hanging fruit models\n",
    "#Bar graph of percent of data that is each emotion\n",
    "#Male vs female\n",
    "#Each actor's percent of total\n",
    "#each actor's percent of each emotion"
   ]
  },
  {
   "cell_type": "code",
   "execution_count": 11,
   "id": "4f51473a",
   "metadata": {},
   "outputs": [],
   "source": [
    "#Perform test train split - .25% test"
   ]
  },
  {
   "cell_type": "code",
   "execution_count": 12,
   "id": "a55bfc13",
   "metadata": {},
   "outputs": [],
   "source": [
    "#Consider switch to google colab for processing power\n",
    "\n",
    "#Baseline Idea.  if line/waveform do multinomial naive bayes\n",
    "# images unforuntately have to do a cnn"
   ]
  },
  {
   "cell_type": "code",
   "execution_count": null,
   "id": "f371e1b0",
   "metadata": {},
   "outputs": [],
   "source": []
  }
 ],
 "metadata": {
  "kernelspec": {
   "display_name": "Python 3",
   "language": "python",
   "name": "python3"
  },
  "language_info": {
   "codemirror_mode": {
    "name": "ipython",
    "version": 3
   },
   "file_extension": ".py",
   "mimetype": "text/x-python",
   "name": "python",
   "nbconvert_exporter": "python",
   "pygments_lexer": "ipython3",
   "version": "3.8.5"
  }
 },
 "nbformat": 4,
 "nbformat_minor": 5
}
